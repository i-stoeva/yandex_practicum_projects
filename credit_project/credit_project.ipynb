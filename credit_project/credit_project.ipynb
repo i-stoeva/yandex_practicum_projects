{
 "cells": [
  {
   "cell_type": "markdown",
   "metadata": {
    "toc": true
   },
   "source": [
    "<h1>Table of Contents<span class=\"tocSkip\"></span></h1>\n",
    "<div class=\"toc\"><ul class=\"toc-item\"><li><span><a href=\"#Изучение-датасета\" data-toc-modified-id=\"Изучение-датасета-1\"><span class=\"toc-item-num\">1&nbsp;&nbsp;</span>Изучение датасета</a></span></li><li><span><a href=\"#Предобработка-данных\" data-toc-modified-id=\"Предобработка-данных-2\"><span class=\"toc-item-num\">2&nbsp;&nbsp;</span>Предобработка данных</a></span><ul class=\"toc-item\"><li><span><a href=\"#Обработка-аномальных-значений\" data-toc-modified-id=\"Обработка-аномальных-значений-2.1\"><span class=\"toc-item-num\">2.1&nbsp;&nbsp;</span>Обработка аномальных значений</a></span></li><li><span><a href=\"#Обработка-пропусков\" data-toc-modified-id=\"Обработка-пропусков-2.2\"><span class=\"toc-item-num\">2.2&nbsp;&nbsp;</span>Обработка пропусков</a></span></li><li><span><a href=\"#Замена-типа-данных\" data-toc-modified-id=\"Замена-типа-данных-2.3\"><span class=\"toc-item-num\">2.3&nbsp;&nbsp;</span>Замена типа данных</a></span></li><li><span><a href=\"#Обработка-дубликатов\" data-toc-modified-id=\"Обработка-дубликатов-2.4\"><span class=\"toc-item-num\">2.4&nbsp;&nbsp;</span>Обработка дубликатов</a></span></li><li><span><a href=\"#Лемматизация\" data-toc-modified-id=\"Лемматизация-2.5\"><span class=\"toc-item-num\">2.5&nbsp;&nbsp;</span>Лемматизация</a></span></li><li><span><a href=\"#Категоризация-данных\" data-toc-modified-id=\"Категоризация-данных-2.6\"><span class=\"toc-item-num\">2.6&nbsp;&nbsp;</span>Категоризация данных</a></span><ul class=\"toc-item\"><li><span><a href=\"#Категоризация-по-количеству-детей\" data-toc-modified-id=\"Категоризация-по-количеству-детей-2.6.1\"><span class=\"toc-item-num\">2.6.1&nbsp;&nbsp;</span>Категоризация по количеству детей</a></span></li><li><span><a href=\"#Категоризация-по-семейному-положению\" data-toc-modified-id=\"Категоризация-по-семейному-положению-2.6.2\"><span class=\"toc-item-num\">2.6.2&nbsp;&nbsp;</span>Категоризация по семейному положению</a></span></li><li><span><a href=\"#Категоризация-по-доходам\" data-toc-modified-id=\"Категоризация-по-доходам-2.6.3\"><span class=\"toc-item-num\">2.6.3&nbsp;&nbsp;</span>Категоризация по доходам</a></span></li><li><span><a href=\"#Категоризация-по-целям\" data-toc-modified-id=\"Категоризация-по-целям-2.6.4\"><span class=\"toc-item-num\">2.6.4&nbsp;&nbsp;</span>Категоризация по целям</a></span></li></ul></li></ul></li><li><span><a href=\"#Влияние-социальных-факторов-на-возврат-кредита-в-срок\" data-toc-modified-id=\"Влияние-социальных-факторов-на-возврат-кредита-в-срок-3\"><span class=\"toc-item-num\">3&nbsp;&nbsp;</span>Влияние социальных факторов на возврат кредита в срок</a></span><ul class=\"toc-item\"><li><span><a href=\"#Есть-ли-зависимость-между-наличием-детей-и-возвратом-кредита-в-срок?\" data-toc-modified-id=\"Есть-ли-зависимость-между-наличием-детей-и-возвратом-кредита-в-срок?-3.1\"><span class=\"toc-item-num\">3.1&nbsp;&nbsp;</span>Есть ли зависимость между наличием детей и возвратом кредита в срок?</a></span></li><li><span><a href=\"#Есть-ли-зависимость-между-семейным-положением-и-возвратом-кредита-в-срок?\" data-toc-modified-id=\"Есть-ли-зависимость-между-семейным-положением-и-возвратом-кредита-в-срок?-3.2\"><span class=\"toc-item-num\">3.2&nbsp;&nbsp;</span>Есть ли зависимость между семейным положением и возвратом кредита в срок?</a></span></li><li><span><a href=\"#Есть-ли-зависимость-между-уровнем-дохода-и-возвратом-кредита-в-срок?\" data-toc-modified-id=\"Есть-ли-зависимость-между-уровнем-дохода-и-возвратом-кредита-в-срок?-3.3\"><span class=\"toc-item-num\">3.3&nbsp;&nbsp;</span>Есть ли зависимость между уровнем дохода и возвратом кредита в срок?</a></span></li><li><span><a href=\"#Как-разные-цели-кредита-влияют-на-его-возврат-в-срок?\" data-toc-modified-id=\"Как-разные-цели-кредита-влияют-на-его-возврат-в-срок?-3.4\"><span class=\"toc-item-num\">3.4&nbsp;&nbsp;</span>Как разные цели кредита влияют на его возврат в срок?</a></span></li></ul></li><li><span><a href=\"#Общий-вывод\" data-toc-modified-id=\"Общий-вывод-4\"><span class=\"toc-item-num\">4&nbsp;&nbsp;</span>Общий вывод</a></span></li></ul></div>"
   ]
  },
  {
   "cell_type": "markdown",
   "metadata": {},
   "source": [
    "# Исследование надёжности заёмщиков\n",
    "\n",
    "Заказчик — кредитный отдел банка. Нужно разобраться, влияет ли семейное положение, количество детей, доход клиента или цели кредита на факт погашения кредита в срок. Входные данные от банка — статистика о платёжеспособности клиентов.\n",
    "\n",
    "Результаты исследования будут учтены при построении модели кредитного скоринга — специальной системы, которая оценивает способность потенциального заёмщика вернуть кредит банку."
   ]
  },
  {
   "cell_type": "markdown",
   "metadata": {},
   "source": [
    "## Изучение датасета"
   ]
  },
  {
   "cell_type": "markdown",
   "metadata": {},
   "source": [
    "Импортируем библиотеки, которые понадобятся в проекте"
   ]
  },
  {
   "cell_type": "code",
   "execution_count": 1,
   "metadata": {
    "scrolled": true
   },
   "outputs": [],
   "source": [
    "import pandas as pd\n",
    "from pymystem3 import Mystem\n",
    "import plotly.express as px"
   ]
  },
  {
   "cell_type": "markdown",
   "metadata": {},
   "source": [
    "Сохраним файл в переменную clients, затем выведем первые 10 строк таблицы для ознакомления"
   ]
  },
  {
   "cell_type": "code",
   "execution_count": 2,
   "metadata": {},
   "outputs": [],
   "source": [
    "clients = pd.read_csv('credit_data.csv')"
   ]
  },
  {
   "cell_type": "code",
   "execution_count": 3,
   "metadata": {},
   "outputs": [
    {
     "data": {
      "text/html": [
       "<div>\n",
       "<style scoped>\n",
       "    .dataframe tbody tr th:only-of-type {\n",
       "        vertical-align: middle;\n",
       "    }\n",
       "\n",
       "    .dataframe tbody tr th {\n",
       "        vertical-align: top;\n",
       "    }\n",
       "\n",
       "    .dataframe thead th {\n",
       "        text-align: right;\n",
       "    }\n",
       "</style>\n",
       "<table border=\"1\" class=\"dataframe\">\n",
       "  <thead>\n",
       "    <tr style=\"text-align: right;\">\n",
       "      <th></th>\n",
       "      <th>children</th>\n",
       "      <th>days_employed</th>\n",
       "      <th>dob_years</th>\n",
       "      <th>education</th>\n",
       "      <th>education_id</th>\n",
       "      <th>family_status</th>\n",
       "      <th>family_status_id</th>\n",
       "      <th>gender</th>\n",
       "      <th>income_type</th>\n",
       "      <th>debt</th>\n",
       "      <th>total_income</th>\n",
       "      <th>purpose</th>\n",
       "    </tr>\n",
       "  </thead>\n",
       "  <tbody>\n",
       "    <tr>\n",
       "      <th>0</th>\n",
       "      <td>1</td>\n",
       "      <td>-8437.673028</td>\n",
       "      <td>42</td>\n",
       "      <td>высшее</td>\n",
       "      <td>0</td>\n",
       "      <td>женат / замужем</td>\n",
       "      <td>0</td>\n",
       "      <td>F</td>\n",
       "      <td>сотрудник</td>\n",
       "      <td>0</td>\n",
       "      <td>253875.639453</td>\n",
       "      <td>покупка жилья</td>\n",
       "    </tr>\n",
       "    <tr>\n",
       "      <th>1</th>\n",
       "      <td>1</td>\n",
       "      <td>-4024.803754</td>\n",
       "      <td>36</td>\n",
       "      <td>среднее</td>\n",
       "      <td>1</td>\n",
       "      <td>женат / замужем</td>\n",
       "      <td>0</td>\n",
       "      <td>F</td>\n",
       "      <td>сотрудник</td>\n",
       "      <td>0</td>\n",
       "      <td>112080.014102</td>\n",
       "      <td>приобретение автомобиля</td>\n",
       "    </tr>\n",
       "    <tr>\n",
       "      <th>2</th>\n",
       "      <td>0</td>\n",
       "      <td>-5623.422610</td>\n",
       "      <td>33</td>\n",
       "      <td>Среднее</td>\n",
       "      <td>1</td>\n",
       "      <td>женат / замужем</td>\n",
       "      <td>0</td>\n",
       "      <td>M</td>\n",
       "      <td>сотрудник</td>\n",
       "      <td>0</td>\n",
       "      <td>145885.952297</td>\n",
       "      <td>покупка жилья</td>\n",
       "    </tr>\n",
       "    <tr>\n",
       "      <th>3</th>\n",
       "      <td>3</td>\n",
       "      <td>-4124.747207</td>\n",
       "      <td>32</td>\n",
       "      <td>среднее</td>\n",
       "      <td>1</td>\n",
       "      <td>женат / замужем</td>\n",
       "      <td>0</td>\n",
       "      <td>M</td>\n",
       "      <td>сотрудник</td>\n",
       "      <td>0</td>\n",
       "      <td>267628.550329</td>\n",
       "      <td>дополнительное образование</td>\n",
       "    </tr>\n",
       "    <tr>\n",
       "      <th>4</th>\n",
       "      <td>0</td>\n",
       "      <td>340266.072047</td>\n",
       "      <td>53</td>\n",
       "      <td>среднее</td>\n",
       "      <td>1</td>\n",
       "      <td>гражданский брак</td>\n",
       "      <td>1</td>\n",
       "      <td>F</td>\n",
       "      <td>пенсионер</td>\n",
       "      <td>0</td>\n",
       "      <td>158616.077870</td>\n",
       "      <td>сыграть свадьбу</td>\n",
       "    </tr>\n",
       "    <tr>\n",
       "      <th>5</th>\n",
       "      <td>0</td>\n",
       "      <td>-926.185831</td>\n",
       "      <td>27</td>\n",
       "      <td>высшее</td>\n",
       "      <td>0</td>\n",
       "      <td>гражданский брак</td>\n",
       "      <td>1</td>\n",
       "      <td>M</td>\n",
       "      <td>компаньон</td>\n",
       "      <td>0</td>\n",
       "      <td>255763.565419</td>\n",
       "      <td>покупка жилья</td>\n",
       "    </tr>\n",
       "    <tr>\n",
       "      <th>6</th>\n",
       "      <td>0</td>\n",
       "      <td>-2879.202052</td>\n",
       "      <td>43</td>\n",
       "      <td>высшее</td>\n",
       "      <td>0</td>\n",
       "      <td>женат / замужем</td>\n",
       "      <td>0</td>\n",
       "      <td>F</td>\n",
       "      <td>компаньон</td>\n",
       "      <td>0</td>\n",
       "      <td>240525.971920</td>\n",
       "      <td>операции с жильем</td>\n",
       "    </tr>\n",
       "    <tr>\n",
       "      <th>7</th>\n",
       "      <td>0</td>\n",
       "      <td>-152.779569</td>\n",
       "      <td>50</td>\n",
       "      <td>СРЕДНЕЕ</td>\n",
       "      <td>1</td>\n",
       "      <td>женат / замужем</td>\n",
       "      <td>0</td>\n",
       "      <td>M</td>\n",
       "      <td>сотрудник</td>\n",
       "      <td>0</td>\n",
       "      <td>135823.934197</td>\n",
       "      <td>образование</td>\n",
       "    </tr>\n",
       "    <tr>\n",
       "      <th>8</th>\n",
       "      <td>2</td>\n",
       "      <td>-6929.865299</td>\n",
       "      <td>35</td>\n",
       "      <td>ВЫСШЕЕ</td>\n",
       "      <td>0</td>\n",
       "      <td>гражданский брак</td>\n",
       "      <td>1</td>\n",
       "      <td>F</td>\n",
       "      <td>сотрудник</td>\n",
       "      <td>0</td>\n",
       "      <td>95856.832424</td>\n",
       "      <td>на проведение свадьбы</td>\n",
       "    </tr>\n",
       "    <tr>\n",
       "      <th>9</th>\n",
       "      <td>0</td>\n",
       "      <td>-2188.756445</td>\n",
       "      <td>41</td>\n",
       "      <td>среднее</td>\n",
       "      <td>1</td>\n",
       "      <td>женат / замужем</td>\n",
       "      <td>0</td>\n",
       "      <td>M</td>\n",
       "      <td>сотрудник</td>\n",
       "      <td>0</td>\n",
       "      <td>144425.938277</td>\n",
       "      <td>покупка жилья для семьи</td>\n",
       "    </tr>\n",
       "  </tbody>\n",
       "</table>\n",
       "</div>"
      ],
      "text/plain": [
       "   children  days_employed  dob_years education  education_id  \\\n",
       "0         1   -8437.673028         42    высшее             0   \n",
       "1         1   -4024.803754         36   среднее             1   \n",
       "2         0   -5623.422610         33   Среднее             1   \n",
       "3         3   -4124.747207         32   среднее             1   \n",
       "4         0  340266.072047         53   среднее             1   \n",
       "5         0    -926.185831         27    высшее             0   \n",
       "6         0   -2879.202052         43    высшее             0   \n",
       "7         0    -152.779569         50   СРЕДНЕЕ             1   \n",
       "8         2   -6929.865299         35    ВЫСШЕЕ             0   \n",
       "9         0   -2188.756445         41   среднее             1   \n",
       "\n",
       "      family_status  family_status_id gender income_type  debt   total_income  \\\n",
       "0   женат / замужем                 0      F   сотрудник     0  253875.639453   \n",
       "1   женат / замужем                 0      F   сотрудник     0  112080.014102   \n",
       "2   женат / замужем                 0      M   сотрудник     0  145885.952297   \n",
       "3   женат / замужем                 0      M   сотрудник     0  267628.550329   \n",
       "4  гражданский брак                 1      F   пенсионер     0  158616.077870   \n",
       "5  гражданский брак                 1      M   компаньон     0  255763.565419   \n",
       "6   женат / замужем                 0      F   компаньон     0  240525.971920   \n",
       "7   женат / замужем                 0      M   сотрудник     0  135823.934197   \n",
       "8  гражданский брак                 1      F   сотрудник     0   95856.832424   \n",
       "9   женат / замужем                 0      M   сотрудник     0  144425.938277   \n",
       "\n",
       "                      purpose  \n",
       "0               покупка жилья  \n",
       "1     приобретение автомобиля  \n",
       "2               покупка жилья  \n",
       "3  дополнительное образование  \n",
       "4             сыграть свадьбу  \n",
       "5               покупка жилья  \n",
       "6           операции с жильем  \n",
       "7                 образование  \n",
       "8       на проведение свадьбы  \n",
       "9     покупка жилья для семьи  "
      ]
     },
     "execution_count": 3,
     "metadata": {},
     "output_type": "execute_result"
    }
   ],
   "source": [
    "clients.head(10)"
   ]
  },
  {
   "cell_type": "markdown",
   "metadata": {},
   "source": [
    "Получим сводную информацию о данных в таблице"
   ]
  },
  {
   "cell_type": "code",
   "execution_count": 4,
   "metadata": {},
   "outputs": [
    {
     "name": "stdout",
     "output_type": "stream",
     "text": [
      "<class 'pandas.core.frame.DataFrame'>\n",
      "RangeIndex: 21525 entries, 0 to 21524\n",
      "Data columns (total 12 columns):\n",
      " #   Column            Non-Null Count  Dtype  \n",
      "---  ------            --------------  -----  \n",
      " 0   children          21525 non-null  int64  \n",
      " 1   days_employed     19351 non-null  float64\n",
      " 2   dob_years         21525 non-null  int64  \n",
      " 3   education         21525 non-null  object \n",
      " 4   education_id      21525 non-null  int64  \n",
      " 5   family_status     21525 non-null  object \n",
      " 6   family_status_id  21525 non-null  int64  \n",
      " 7   gender            21525 non-null  object \n",
      " 8   income_type       21525 non-null  object \n",
      " 9   debt              21525 non-null  int64  \n",
      " 10  total_income      19351 non-null  float64\n",
      " 11  purpose           21525 non-null  object \n",
      "dtypes: float64(2), int64(5), object(5)\n",
      "memory usage: 2.0+ MB\n"
     ]
    }
   ],
   "source": [
    "clients.info()"
   ]
  },
  {
   "cell_type": "markdown",
   "metadata": {},
   "source": [
    "Для дальнейшего удобства в работе с таблицей заменим название некоторых столбцов на более информативное.\n",
    "\n",
    "Названия столбцов на входе:\n",
    "- children — количество детей в семье\n",
    "- days_employed — общий трудовой стаж в днях\n",
    "- dob_years — возраст клиента в годах\n",
    "- education — уровень образования клиента\n",
    "- education_id — идентификатор уровня образования\n",
    "- family_status — семейное положение\n",
    "- family_status_id — идентификатор семейного положения\n",
    "- gender — пол клиента\n",
    "- income_type — тип занятости\n",
    "- debt — имел ли задолженность по возврату кредитов\n",
    "- total_income — ежемесячный доход\n",
    "- purpose — цель получения кредита\n",
    "\n",
    "После переименования:\n",
    "- children_number — количество детей в семье\n",
    "- work_experience_days — общий трудовой стаж в днях\n",
    "- client_age — возраст клиента в годах\n",
    "- education_level — уровень образования клиента\n",
    "- education_level_id — идентификатор уровня образования\n",
    "- family_status — семейное положение\n",
    "- family_status_id — идентификатор семейного положения\n",
    "- gender — пол клиента\n",
    "- employment_type — тип занятости\n",
    "- debt_status — имел ли задолженность по возврату кредитов\n",
    "- month_income — ежемесячный доход\n",
    "- credit_purpose — цель получения кредита\n",
    "\n",
    "\n",
    "\n",
    "- work_experience_years — общий трудовой стаж в годах (_прим. этот признак будет добавлен позже при работе с аномальными значениями, на этапе чтения файла его нет_)"
   ]
  },
  {
   "cell_type": "code",
   "execution_count": 5,
   "metadata": {},
   "outputs": [],
   "source": [
    "clients.set_axis(['children_number', 'work_experience_days', 'client_age', 'education_level',\n",
    "                  'education_level_id', 'family_status', 'family_status_id', 'gender',\n",
    "                  'employment_type', 'debt_status', 'month_income', 'credit_purpose'],\n",
    "                  axis='columns',inplace=True)"
   ]
  },
  {
   "cell_type": "markdown",
   "metadata": {},
   "source": [
    "После переименования столбцов еще раз проверим данные методом info()"
   ]
  },
  {
   "cell_type": "code",
   "execution_count": 6,
   "metadata": {},
   "outputs": [
    {
     "name": "stdout",
     "output_type": "stream",
     "text": [
      "<class 'pandas.core.frame.DataFrame'>\n",
      "RangeIndex: 21525 entries, 0 to 21524\n",
      "Data columns (total 12 columns):\n",
      " #   Column                Non-Null Count  Dtype  \n",
      "---  ------                --------------  -----  \n",
      " 0   children_number       21525 non-null  int64  \n",
      " 1   work_experience_days  19351 non-null  float64\n",
      " 2   client_age            21525 non-null  int64  \n",
      " 3   education_level       21525 non-null  object \n",
      " 4   education_level_id    21525 non-null  int64  \n",
      " 5   family_status         21525 non-null  object \n",
      " 6   family_status_id      21525 non-null  int64  \n",
      " 7   gender                21525 non-null  object \n",
      " 8   employment_type       21525 non-null  object \n",
      " 9   debt_status           21525 non-null  int64  \n",
      " 10  month_income          19351 non-null  float64\n",
      " 11  credit_purpose        21525 non-null  object \n",
      "dtypes: float64(2), int64(5), object(5)\n",
      "memory usage: 2.0+ MB\n"
     ]
    }
   ],
   "source": [
    "clients.info()"
   ]
  },
  {
   "cell_type": "markdown",
   "metadata": {},
   "source": [
    "Посмотрим на данные методом describe()"
   ]
  },
  {
   "cell_type": "code",
   "execution_count": 7,
   "metadata": {},
   "outputs": [
    {
     "data": {
      "text/html": [
       "<div>\n",
       "<style scoped>\n",
       "    .dataframe tbody tr th:only-of-type {\n",
       "        vertical-align: middle;\n",
       "    }\n",
       "\n",
       "    .dataframe tbody tr th {\n",
       "        vertical-align: top;\n",
       "    }\n",
       "\n",
       "    .dataframe thead th {\n",
       "        text-align: right;\n",
       "    }\n",
       "</style>\n",
       "<table border=\"1\" class=\"dataframe\">\n",
       "  <thead>\n",
       "    <tr style=\"text-align: right;\">\n",
       "      <th></th>\n",
       "      <th>children_number</th>\n",
       "      <th>work_experience_days</th>\n",
       "      <th>client_age</th>\n",
       "      <th>education_level_id</th>\n",
       "      <th>family_status_id</th>\n",
       "      <th>debt_status</th>\n",
       "      <th>month_income</th>\n",
       "    </tr>\n",
       "  </thead>\n",
       "  <tbody>\n",
       "    <tr>\n",
       "      <th>count</th>\n",
       "      <td>21525.000000</td>\n",
       "      <td>19351.000000</td>\n",
       "      <td>21525.000000</td>\n",
       "      <td>21525.000000</td>\n",
       "      <td>21525.000000</td>\n",
       "      <td>21525.000000</td>\n",
       "      <td>1.935100e+04</td>\n",
       "    </tr>\n",
       "    <tr>\n",
       "      <th>mean</th>\n",
       "      <td>0.538908</td>\n",
       "      <td>63046.497661</td>\n",
       "      <td>43.293380</td>\n",
       "      <td>0.817236</td>\n",
       "      <td>0.972544</td>\n",
       "      <td>0.080883</td>\n",
       "      <td>1.674223e+05</td>\n",
       "    </tr>\n",
       "    <tr>\n",
       "      <th>std</th>\n",
       "      <td>1.381587</td>\n",
       "      <td>140827.311974</td>\n",
       "      <td>12.574584</td>\n",
       "      <td>0.548138</td>\n",
       "      <td>1.420324</td>\n",
       "      <td>0.272661</td>\n",
       "      <td>1.029716e+05</td>\n",
       "    </tr>\n",
       "    <tr>\n",
       "      <th>min</th>\n",
       "      <td>-1.000000</td>\n",
       "      <td>-18388.949901</td>\n",
       "      <td>0.000000</td>\n",
       "      <td>0.000000</td>\n",
       "      <td>0.000000</td>\n",
       "      <td>0.000000</td>\n",
       "      <td>2.066726e+04</td>\n",
       "    </tr>\n",
       "    <tr>\n",
       "      <th>25%</th>\n",
       "      <td>0.000000</td>\n",
       "      <td>-2747.423625</td>\n",
       "      <td>33.000000</td>\n",
       "      <td>1.000000</td>\n",
       "      <td>0.000000</td>\n",
       "      <td>0.000000</td>\n",
       "      <td>1.030532e+05</td>\n",
       "    </tr>\n",
       "    <tr>\n",
       "      <th>50%</th>\n",
       "      <td>0.000000</td>\n",
       "      <td>-1203.369529</td>\n",
       "      <td>42.000000</td>\n",
       "      <td>1.000000</td>\n",
       "      <td>0.000000</td>\n",
       "      <td>0.000000</td>\n",
       "      <td>1.450179e+05</td>\n",
       "    </tr>\n",
       "    <tr>\n",
       "      <th>75%</th>\n",
       "      <td>1.000000</td>\n",
       "      <td>-291.095954</td>\n",
       "      <td>53.000000</td>\n",
       "      <td>1.000000</td>\n",
       "      <td>1.000000</td>\n",
       "      <td>0.000000</td>\n",
       "      <td>2.034351e+05</td>\n",
       "    </tr>\n",
       "    <tr>\n",
       "      <th>max</th>\n",
       "      <td>20.000000</td>\n",
       "      <td>401755.400475</td>\n",
       "      <td>75.000000</td>\n",
       "      <td>4.000000</td>\n",
       "      <td>4.000000</td>\n",
       "      <td>1.000000</td>\n",
       "      <td>2.265604e+06</td>\n",
       "    </tr>\n",
       "  </tbody>\n",
       "</table>\n",
       "</div>"
      ],
      "text/plain": [
       "       children_number  work_experience_days    client_age  \\\n",
       "count     21525.000000          19351.000000  21525.000000   \n",
       "mean          0.538908          63046.497661     43.293380   \n",
       "std           1.381587         140827.311974     12.574584   \n",
       "min          -1.000000         -18388.949901      0.000000   \n",
       "25%           0.000000          -2747.423625     33.000000   \n",
       "50%           0.000000          -1203.369529     42.000000   \n",
       "75%           1.000000           -291.095954     53.000000   \n",
       "max          20.000000         401755.400475     75.000000   \n",
       "\n",
       "       education_level_id  family_status_id   debt_status  month_income  \n",
       "count        21525.000000      21525.000000  21525.000000  1.935100e+04  \n",
       "mean             0.817236          0.972544      0.080883  1.674223e+05  \n",
       "std              0.548138          1.420324      0.272661  1.029716e+05  \n",
       "min              0.000000          0.000000      0.000000  2.066726e+04  \n",
       "25%              1.000000          0.000000      0.000000  1.030532e+05  \n",
       "50%              1.000000          0.000000      0.000000  1.450179e+05  \n",
       "75%              1.000000          1.000000      0.000000  2.034351e+05  \n",
       "max              4.000000          4.000000      1.000000  2.265604e+06  "
      ]
     },
     "execution_count": 7,
     "metadata": {},
     "output_type": "execute_result"
    }
   ],
   "source": [
    "clients.describe()"
   ]
  },
  {
   "cell_type": "markdown",
   "metadata": {},
   "source": [
    "**Вывод**"
   ]
  },
  {
   "cell_type": "markdown",
   "metadata": {},
   "source": [
    "В файле представлена информация о клиентах банка и их платежеспособности. \n",
    "\n",
    "Таблица содержит 21525 записей и 12 столбцов с разными типами данных: int64, float64 и object. Запись равна одному объекту исследования (клиенту).\n",
    "\n",
    "Названия столбцов представлены в правильном формате (все в нижнем регистре и вместо пробелов нижнее подчеркивание). Но, если говорить о названии столбцов с точки зрения информативности, то некоторые потребовалось переименовать на более понятные.\n",
    "\n",
    "На первый взгляд наблюдаем следующие проблемы:\n",
    "\n",
    "- в столбце с трудовым стажем (work_experience_days (до переименования - days_employed)) есть пропущенные, отрицательные или очень большие значения, также количество дней указано как вещественные числа;\n",
    "\n",
    "\n",
    "- в столбце с уровнем образования клиента (education_level (до переименования - education)) значения представлены с разным регистром;\n",
    "\n",
    "\n",
    "- в столбце с ежемесячным доходом клиента (month_income (до переименования total_income)) есть пропуски. Также доходы указаны в виде вещественных чисел с шестью знаками после разделителя;\n",
    "\n",
    "\n",
    "- в столбце с количеством детей клиента есть отрицательные значения. Максимальноен количество детей достигает аномального значения 20.\n",
    "\n",
    "Для ответов на поставленные бизнесом вопросы нам потребуются столбцы со следующей информацией:\n",
    "количество детей, семейное положение, ежемесячный доход, цель кредита и имелась ли у клиента задолженность по кредитам. "
   ]
  },
  {
   "cell_type": "markdown",
   "metadata": {},
   "source": [
    "## Предобработка данных"
   ]
  },
  {
   "cell_type": "markdown",
   "metadata": {},
   "source": [
    "### Обработка аномальных значений"
   ]
  },
  {
   "cell_type": "markdown",
   "metadata": {},
   "source": [
    "Посмотрим на средние значения трудового стажа в разрезе типов занятости"
   ]
  },
  {
   "cell_type": "code",
   "execution_count": 8,
   "metadata": {},
   "outputs": [
    {
     "data": {
      "text/plain": [
       "employment_type\n",
       "безработный        366413.652744\n",
       "в декрете           -3296.759962\n",
       "госслужащий         -3399.896902\n",
       "компаньон           -2111.524398\n",
       "пенсионер          365003.491245\n",
       "предприниматель      -520.848083\n",
       "сотрудник           -2326.499216\n",
       "студент              -578.751554\n",
       "Name: work_experience_days, dtype: float64"
      ]
     },
     "execution_count": 8,
     "metadata": {},
     "output_type": "execute_result"
    }
   ],
   "source": [
    "clients.groupby('employment_type')['work_experience_days'].mean()"
   ]
  },
  {
   "cell_type": "markdown",
   "metadata": {},
   "source": [
    "Мы видим аномалии положительного и отрицательного стажа. \n",
    "Положительный стаж наблюдается только у безработных и пенсионеров, при этом он выглядит слишком большим. Похоже на то, что стаж измерялся в часах, поэтому дополнительно будем делить его на 24. \n",
    "Отрицательный стаж приведем к абсолютным значениям с помощью метода abs(). Просто удалить все строки с отрицательным стажем нельзя, т.к. мы потеряем огромное количество данных для анализа. "
   ]
  },
  {
   "cell_type": "code",
   "execution_count": 9,
   "metadata": {},
   "outputs": [],
   "source": [
    "clients['work_experience_days'] = clients['work_experience_days'].apply(lambda x: x/24 if x>0  else abs(x))"
   ]
  },
  {
   "cell_type": "markdown",
   "metadata": {},
   "source": [
    "Создадим новый признак трудового стажа в годах, для этого поделим стаж в днях для всех типов занятости на 365"
   ]
  },
  {
   "cell_type": "code",
   "execution_count": 10,
   "metadata": {},
   "outputs": [],
   "source": [
    "clients['work_experience_years'] = clients['work_experience_days']/365"
   ]
  },
  {
   "cell_type": "markdown",
   "metadata": {},
   "source": [
    "Посмотрим, что получилось и убедимся, что в трудовом стаже не осталось аномальных значений "
   ]
  },
  {
   "cell_type": "code",
   "execution_count": 11,
   "metadata": {},
   "outputs": [
    {
     "data": {
      "text/html": [
       "<div>\n",
       "<style scoped>\n",
       "    .dataframe tbody tr th:only-of-type {\n",
       "        vertical-align: middle;\n",
       "    }\n",
       "\n",
       "    .dataframe tbody tr th {\n",
       "        vertical-align: top;\n",
       "    }\n",
       "\n",
       "    .dataframe thead th {\n",
       "        text-align: right;\n",
       "    }\n",
       "</style>\n",
       "<table border=\"1\" class=\"dataframe\">\n",
       "  <thead>\n",
       "    <tr style=\"text-align: right;\">\n",
       "      <th></th>\n",
       "      <th>children_number</th>\n",
       "      <th>work_experience_days</th>\n",
       "      <th>client_age</th>\n",
       "      <th>education_level_id</th>\n",
       "      <th>family_status_id</th>\n",
       "      <th>debt_status</th>\n",
       "      <th>month_income</th>\n",
       "      <th>work_experience_years</th>\n",
       "    </tr>\n",
       "  </thead>\n",
       "  <tbody>\n",
       "    <tr>\n",
       "      <th>count</th>\n",
       "      <td>21525.000000</td>\n",
       "      <td>19351.000000</td>\n",
       "      <td>21525.000000</td>\n",
       "      <td>21525.000000</td>\n",
       "      <td>21525.000000</td>\n",
       "      <td>21525.000000</td>\n",
       "      <td>1.935100e+04</td>\n",
       "      <td>19351.000000</td>\n",
       "    </tr>\n",
       "    <tr>\n",
       "      <th>mean</th>\n",
       "      <td>0.538908</td>\n",
       "      <td>4641.641176</td>\n",
       "      <td>43.293380</td>\n",
       "      <td>0.817236</td>\n",
       "      <td>0.972544</td>\n",
       "      <td>0.080883</td>\n",
       "      <td>1.674223e+05</td>\n",
       "      <td>12.716825</td>\n",
       "    </tr>\n",
       "    <tr>\n",
       "      <th>std</th>\n",
       "      <td>1.381587</td>\n",
       "      <td>5355.964289</td>\n",
       "      <td>12.574584</td>\n",
       "      <td>0.548138</td>\n",
       "      <td>1.420324</td>\n",
       "      <td>0.272661</td>\n",
       "      <td>1.029716e+05</td>\n",
       "      <td>14.673875</td>\n",
       "    </tr>\n",
       "    <tr>\n",
       "      <th>min</th>\n",
       "      <td>-1.000000</td>\n",
       "      <td>24.141633</td>\n",
       "      <td>0.000000</td>\n",
       "      <td>0.000000</td>\n",
       "      <td>0.000000</td>\n",
       "      <td>0.000000</td>\n",
       "      <td>2.066726e+04</td>\n",
       "      <td>0.066141</td>\n",
       "    </tr>\n",
       "    <tr>\n",
       "      <th>25%</th>\n",
       "      <td>0.000000</td>\n",
       "      <td>927.009265</td>\n",
       "      <td>33.000000</td>\n",
       "      <td>1.000000</td>\n",
       "      <td>0.000000</td>\n",
       "      <td>0.000000</td>\n",
       "      <td>1.030532e+05</td>\n",
       "      <td>2.539751</td>\n",
       "    </tr>\n",
       "    <tr>\n",
       "      <th>50%</th>\n",
       "      <td>0.000000</td>\n",
       "      <td>2194.220567</td>\n",
       "      <td>42.000000</td>\n",
       "      <td>1.000000</td>\n",
       "      <td>0.000000</td>\n",
       "      <td>0.000000</td>\n",
       "      <td>1.450179e+05</td>\n",
       "      <td>6.011563</td>\n",
       "    </tr>\n",
       "    <tr>\n",
       "      <th>75%</th>\n",
       "      <td>1.000000</td>\n",
       "      <td>5537.882441</td>\n",
       "      <td>53.000000</td>\n",
       "      <td>1.000000</td>\n",
       "      <td>1.000000</td>\n",
       "      <td>0.000000</td>\n",
       "      <td>2.034351e+05</td>\n",
       "      <td>15.172281</td>\n",
       "    </tr>\n",
       "    <tr>\n",
       "      <th>max</th>\n",
       "      <td>20.000000</td>\n",
       "      <td>18388.949901</td>\n",
       "      <td>75.000000</td>\n",
       "      <td>4.000000</td>\n",
       "      <td>4.000000</td>\n",
       "      <td>1.000000</td>\n",
       "      <td>2.265604e+06</td>\n",
       "      <td>50.380685</td>\n",
       "    </tr>\n",
       "  </tbody>\n",
       "</table>\n",
       "</div>"
      ],
      "text/plain": [
       "       children_number  work_experience_days    client_age  \\\n",
       "count     21525.000000          19351.000000  21525.000000   \n",
       "mean          0.538908           4641.641176     43.293380   \n",
       "std           1.381587           5355.964289     12.574584   \n",
       "min          -1.000000             24.141633      0.000000   \n",
       "25%           0.000000            927.009265     33.000000   \n",
       "50%           0.000000           2194.220567     42.000000   \n",
       "75%           1.000000           5537.882441     53.000000   \n",
       "max          20.000000          18388.949901     75.000000   \n",
       "\n",
       "       education_level_id  family_status_id   debt_status  month_income  \\\n",
       "count        21525.000000      21525.000000  21525.000000  1.935100e+04   \n",
       "mean             0.817236          0.972544      0.080883  1.674223e+05   \n",
       "std              0.548138          1.420324      0.272661  1.029716e+05   \n",
       "min              0.000000          0.000000      0.000000  2.066726e+04   \n",
       "25%              1.000000          0.000000      0.000000  1.030532e+05   \n",
       "50%              1.000000          0.000000      0.000000  1.450179e+05   \n",
       "75%              1.000000          1.000000      0.000000  2.034351e+05   \n",
       "max              4.000000          4.000000      1.000000  2.265604e+06   \n",
       "\n",
       "       work_experience_years  \n",
       "count           19351.000000  \n",
       "mean               12.716825  \n",
       "std                14.673875  \n",
       "min                 0.066141  \n",
       "25%                 2.539751  \n",
       "50%                 6.011563  \n",
       "75%                15.172281  \n",
       "max                50.380685  "
      ]
     },
     "execution_count": 11,
     "metadata": {},
     "output_type": "execute_result"
    }
   ],
   "source": [
    "clients.describe()"
   ]
  },
  {
   "cell_type": "markdown",
   "metadata": {},
   "source": [
    "Также у нас остался еще один столбец с аномальными значениями - количество детей. Методом abs() приведем отрицательные знаечния к абсолютным."
   ]
  },
  {
   "cell_type": "code",
   "execution_count": 12,
   "metadata": {},
   "outputs": [],
   "source": [
    "clients['children_number'] = clients['children_number'].abs()"
   ]
  },
  {
   "cell_type": "markdown",
   "metadata": {},
   "source": [
    "Теперь посмотрим на максимальное количество детей 20. Посчитаем количество таких записей и посмотрим нет ли еще анамальных положительных значений"
   ]
  },
  {
   "cell_type": "code",
   "execution_count": 13,
   "metadata": {},
   "outputs": [
    {
     "data": {
      "text/plain": [
       "0     14149\n",
       "1      4865\n",
       "2      2055\n",
       "3       330\n",
       "20       76\n",
       "4        41\n",
       "5         9\n",
       "Name: children_number, dtype: int64"
      ]
     },
     "execution_count": 13,
     "metadata": {},
     "output_type": "execute_result"
    }
   ],
   "source": [
    "clients['children_number'].value_counts()"
   ]
  },
  {
   "cell_type": "markdown",
   "metadata": {},
   "source": [
    "Как видим, есть 76 записей с количеством детей - 20. Похоже, что это была опечатка, например, при вводе 2х детей не убрали 0, который стоял по умолчанию. Заменим 20 на 2 методом replace() и убедимся, что данные по столбцу теперь корректны"
   ]
  },
  {
   "cell_type": "code",
   "execution_count": 14,
   "metadata": {},
   "outputs": [],
   "source": [
    "clients['children_number'] = clients['children_number'].replace(20,2)"
   ]
  },
  {
   "cell_type": "code",
   "execution_count": 15,
   "metadata": {},
   "outputs": [
    {
     "data": {
      "text/plain": [
       "0    14149\n",
       "1     4865\n",
       "2     2131\n",
       "3      330\n",
       "4       41\n",
       "5        9\n",
       "Name: children_number, dtype: int64"
      ]
     },
     "execution_count": 15,
     "metadata": {},
     "output_type": "execute_result"
    }
   ],
   "source": [
    "clients['children_number'].value_counts()"
   ]
  },
  {
   "cell_type": "markdown",
   "metadata": {},
   "source": [
    "Проверим данные"
   ]
  },
  {
   "cell_type": "code",
   "execution_count": 16,
   "metadata": {},
   "outputs": [
    {
     "data": {
      "text/html": [
       "<div>\n",
       "<style scoped>\n",
       "    .dataframe tbody tr th:only-of-type {\n",
       "        vertical-align: middle;\n",
       "    }\n",
       "\n",
       "    .dataframe tbody tr th {\n",
       "        vertical-align: top;\n",
       "    }\n",
       "\n",
       "    .dataframe thead th {\n",
       "        text-align: right;\n",
       "    }\n",
       "</style>\n",
       "<table border=\"1\" class=\"dataframe\">\n",
       "  <thead>\n",
       "    <tr style=\"text-align: right;\">\n",
       "      <th></th>\n",
       "      <th>children_number</th>\n",
       "      <th>work_experience_days</th>\n",
       "      <th>client_age</th>\n",
       "      <th>education_level_id</th>\n",
       "      <th>family_status_id</th>\n",
       "      <th>debt_status</th>\n",
       "      <th>month_income</th>\n",
       "      <th>work_experience_years</th>\n",
       "    </tr>\n",
       "  </thead>\n",
       "  <tbody>\n",
       "    <tr>\n",
       "      <th>count</th>\n",
       "      <td>21525.000000</td>\n",
       "      <td>19351.000000</td>\n",
       "      <td>21525.000000</td>\n",
       "      <td>21525.000000</td>\n",
       "      <td>21525.000000</td>\n",
       "      <td>21525.000000</td>\n",
       "      <td>1.935100e+04</td>\n",
       "      <td>19351.000000</td>\n",
       "    </tr>\n",
       "    <tr>\n",
       "      <th>mean</th>\n",
       "      <td>0.479721</td>\n",
       "      <td>4641.641176</td>\n",
       "      <td>43.293380</td>\n",
       "      <td>0.817236</td>\n",
       "      <td>0.972544</td>\n",
       "      <td>0.080883</td>\n",
       "      <td>1.674223e+05</td>\n",
       "      <td>12.716825</td>\n",
       "    </tr>\n",
       "    <tr>\n",
       "      <th>std</th>\n",
       "      <td>0.755528</td>\n",
       "      <td>5355.964289</td>\n",
       "      <td>12.574584</td>\n",
       "      <td>0.548138</td>\n",
       "      <td>1.420324</td>\n",
       "      <td>0.272661</td>\n",
       "      <td>1.029716e+05</td>\n",
       "      <td>14.673875</td>\n",
       "    </tr>\n",
       "    <tr>\n",
       "      <th>min</th>\n",
       "      <td>0.000000</td>\n",
       "      <td>24.141633</td>\n",
       "      <td>0.000000</td>\n",
       "      <td>0.000000</td>\n",
       "      <td>0.000000</td>\n",
       "      <td>0.000000</td>\n",
       "      <td>2.066726e+04</td>\n",
       "      <td>0.066141</td>\n",
       "    </tr>\n",
       "    <tr>\n",
       "      <th>25%</th>\n",
       "      <td>0.000000</td>\n",
       "      <td>927.009265</td>\n",
       "      <td>33.000000</td>\n",
       "      <td>1.000000</td>\n",
       "      <td>0.000000</td>\n",
       "      <td>0.000000</td>\n",
       "      <td>1.030532e+05</td>\n",
       "      <td>2.539751</td>\n",
       "    </tr>\n",
       "    <tr>\n",
       "      <th>50%</th>\n",
       "      <td>0.000000</td>\n",
       "      <td>2194.220567</td>\n",
       "      <td>42.000000</td>\n",
       "      <td>1.000000</td>\n",
       "      <td>0.000000</td>\n",
       "      <td>0.000000</td>\n",
       "      <td>1.450179e+05</td>\n",
       "      <td>6.011563</td>\n",
       "    </tr>\n",
       "    <tr>\n",
       "      <th>75%</th>\n",
       "      <td>1.000000</td>\n",
       "      <td>5537.882441</td>\n",
       "      <td>53.000000</td>\n",
       "      <td>1.000000</td>\n",
       "      <td>1.000000</td>\n",
       "      <td>0.000000</td>\n",
       "      <td>2.034351e+05</td>\n",
       "      <td>15.172281</td>\n",
       "    </tr>\n",
       "    <tr>\n",
       "      <th>max</th>\n",
       "      <td>5.000000</td>\n",
       "      <td>18388.949901</td>\n",
       "      <td>75.000000</td>\n",
       "      <td>4.000000</td>\n",
       "      <td>4.000000</td>\n",
       "      <td>1.000000</td>\n",
       "      <td>2.265604e+06</td>\n",
       "      <td>50.380685</td>\n",
       "    </tr>\n",
       "  </tbody>\n",
       "</table>\n",
       "</div>"
      ],
      "text/plain": [
       "       children_number  work_experience_days    client_age  \\\n",
       "count     21525.000000          19351.000000  21525.000000   \n",
       "mean          0.479721           4641.641176     43.293380   \n",
       "std           0.755528           5355.964289     12.574584   \n",
       "min           0.000000             24.141633      0.000000   \n",
       "25%           0.000000            927.009265     33.000000   \n",
       "50%           0.000000           2194.220567     42.000000   \n",
       "75%           1.000000           5537.882441     53.000000   \n",
       "max           5.000000          18388.949901     75.000000   \n",
       "\n",
       "       education_level_id  family_status_id   debt_status  month_income  \\\n",
       "count        21525.000000      21525.000000  21525.000000  1.935100e+04   \n",
       "mean             0.817236          0.972544      0.080883  1.674223e+05   \n",
       "std              0.548138          1.420324      0.272661  1.029716e+05   \n",
       "min              0.000000          0.000000      0.000000  2.066726e+04   \n",
       "25%              1.000000          0.000000      0.000000  1.030532e+05   \n",
       "50%              1.000000          0.000000      0.000000  1.450179e+05   \n",
       "75%              1.000000          1.000000      0.000000  2.034351e+05   \n",
       "max              4.000000          4.000000      1.000000  2.265604e+06   \n",
       "\n",
       "       work_experience_years  \n",
       "count           19351.000000  \n",
       "mean               12.716825  \n",
       "std                14.673875  \n",
       "min                 0.066141  \n",
       "25%                 2.539751  \n",
       "50%                 6.011563  \n",
       "75%                15.172281  \n",
       "max                50.380685  "
      ]
     },
     "execution_count": 16,
     "metadata": {},
     "output_type": "execute_result"
    }
   ],
   "source": [
    "clients.describe()"
   ]
  },
  {
   "cell_type": "markdown",
   "metadata": {},
   "source": [
    "### Обработка пропусков"
   ]
  },
  {
   "cell_type": "markdown",
   "metadata": {},
   "source": [
    "В первой части проекта методом info() мы увидели наличие пропусков в столбцах с трудовым стажем и ежемесячным доходом, посмотрим на количество пропущенных значений методом isna(). Между isna() и isnull() выбран isna(), т.к. пропущенные значения были замечены в столбцах с типом данных float64. Если бы пропущенные значения были в столбцах с разыми типами данных, то предпочтение было бы методу isnull()."
   ]
  },
  {
   "cell_type": "code",
   "execution_count": 17,
   "metadata": {},
   "outputs": [
    {
     "data": {
      "text/plain": [
       "children_number             0\n",
       "work_experience_days     2174\n",
       "client_age                  0\n",
       "education_level             0\n",
       "education_level_id          0\n",
       "family_status               0\n",
       "family_status_id            0\n",
       "gender                      0\n",
       "employment_type             0\n",
       "debt_status                 0\n",
       "month_income             2174\n",
       "credit_purpose              0\n",
       "work_experience_years    2174\n",
       "dtype: int64"
      ]
     },
     "execution_count": 17,
     "metadata": {},
     "output_type": "execute_result"
    }
   ],
   "source": [
    "clients.isna().sum()"
   ]
  },
  {
   "cell_type": "markdown",
   "metadata": {},
   "source": [
    "Т.к. далее мы будем использовать признак трудового стажа в годах, столбец с трудовым стажем в днях можно удалить. "
   ]
  },
  {
   "cell_type": "code",
   "execution_count": 18,
   "metadata": {},
   "outputs": [],
   "source": [
    "clients = clients.drop(columns='work_experience_days')"
   ]
  },
  {
   "cell_type": "markdown",
   "metadata": {},
   "source": [
    "Мы видим одинаковое количество строк с пропусками с трудовом стаже и ежемесячном доходе. Удаление строк с пропущенными значениями повлечет удаление большого количества данных для анализа, поэтому лучше заполнить пропуски средними значениями"
   ]
  },
  {
   "cell_type": "markdown",
   "metadata": {},
   "source": [
    "Прежде, чем мы начнем расчет среднего значения, посмотрим на таблицу еще раз на примере сотрировки данных по столбцам с количеством лет стажа и ежемесячным доходом. \n",
    "Видно, что самое большое количество лет стажа у пенсионеров, а наименьшее - у сотрудников и компаньонов. При этом уровень дохода у пенсионеров ниже. Исходя из этого приходим к выводу, что средние значения лучше рассчитывать по каждому типу занятости отдельно"
   ]
  },
  {
   "cell_type": "code",
   "execution_count": 19,
   "metadata": {},
   "outputs": [
    {
     "data": {
      "text/html": [
       "<div>\n",
       "<style scoped>\n",
       "    .dataframe tbody tr th:only-of-type {\n",
       "        vertical-align: middle;\n",
       "    }\n",
       "\n",
       "    .dataframe tbody tr th {\n",
       "        vertical-align: top;\n",
       "    }\n",
       "\n",
       "    .dataframe thead th {\n",
       "        text-align: right;\n",
       "    }\n",
       "</style>\n",
       "<table border=\"1\" class=\"dataframe\">\n",
       "  <thead>\n",
       "    <tr style=\"text-align: right;\">\n",
       "      <th></th>\n",
       "      <th>children_number</th>\n",
       "      <th>client_age</th>\n",
       "      <th>education_level</th>\n",
       "      <th>education_level_id</th>\n",
       "      <th>family_status</th>\n",
       "      <th>family_status_id</th>\n",
       "      <th>gender</th>\n",
       "      <th>employment_type</th>\n",
       "      <th>debt_status</th>\n",
       "      <th>month_income</th>\n",
       "      <th>credit_purpose</th>\n",
       "      <th>work_experience_years</th>\n",
       "    </tr>\n",
       "  </thead>\n",
       "  <tbody>\n",
       "    <tr>\n",
       "      <th>16335</th>\n",
       "      <td>1</td>\n",
       "      <td>61</td>\n",
       "      <td>среднее</td>\n",
       "      <td>1</td>\n",
       "      <td>женат / замужем</td>\n",
       "      <td>0</td>\n",
       "      <td>F</td>\n",
       "      <td>сотрудник</td>\n",
       "      <td>0</td>\n",
       "      <td>186178.934089</td>\n",
       "      <td>операции с недвижимостью</td>\n",
       "      <td>50.380685</td>\n",
       "    </tr>\n",
       "    <tr>\n",
       "      <th>4299</th>\n",
       "      <td>0</td>\n",
       "      <td>61</td>\n",
       "      <td>среднее</td>\n",
       "      <td>1</td>\n",
       "      <td>женат / замужем</td>\n",
       "      <td>0</td>\n",
       "      <td>F</td>\n",
       "      <td>компаньон</td>\n",
       "      <td>0</td>\n",
       "      <td>122560.741753</td>\n",
       "      <td>покупка жилья</td>\n",
       "      <td>48.261817</td>\n",
       "    </tr>\n",
       "    <tr>\n",
       "      <th>6954</th>\n",
       "      <td>0</td>\n",
       "      <td>56</td>\n",
       "      <td>среднее</td>\n",
       "      <td>1</td>\n",
       "      <td>вдовец / вдова</td>\n",
       "      <td>2</td>\n",
       "      <td>F</td>\n",
       "      <td>пенсионер</td>\n",
       "      <td>0</td>\n",
       "      <td>176278.441171</td>\n",
       "      <td>ремонт жилью</td>\n",
       "      <td>45.862489</td>\n",
       "    </tr>\n",
       "    <tr>\n",
       "      <th>10006</th>\n",
       "      <td>0</td>\n",
       "      <td>69</td>\n",
       "      <td>высшее</td>\n",
       "      <td>0</td>\n",
       "      <td>Не женат / не замужем</td>\n",
       "      <td>4</td>\n",
       "      <td>F</td>\n",
       "      <td>пенсионер</td>\n",
       "      <td>0</td>\n",
       "      <td>57390.256908</td>\n",
       "      <td>получение образования</td>\n",
       "      <td>45.857969</td>\n",
       "    </tr>\n",
       "    <tr>\n",
       "      <th>7664</th>\n",
       "      <td>1</td>\n",
       "      <td>61</td>\n",
       "      <td>среднее</td>\n",
       "      <td>1</td>\n",
       "      <td>женат / замужем</td>\n",
       "      <td>0</td>\n",
       "      <td>F</td>\n",
       "      <td>пенсионер</td>\n",
       "      <td>0</td>\n",
       "      <td>126214.519212</td>\n",
       "      <td>операции с жильем</td>\n",
       "      <td>45.853321</td>\n",
       "    </tr>\n",
       "    <tr>\n",
       "      <th>...</th>\n",
       "      <td>...</td>\n",
       "      <td>...</td>\n",
       "      <td>...</td>\n",
       "      <td>...</td>\n",
       "      <td>...</td>\n",
       "      <td>...</td>\n",
       "      <td>...</td>\n",
       "      <td>...</td>\n",
       "      <td>...</td>\n",
       "      <td>...</td>\n",
       "      <td>...</td>\n",
       "      <td>...</td>\n",
       "    </tr>\n",
       "    <tr>\n",
       "      <th>21489</th>\n",
       "      <td>2</td>\n",
       "      <td>47</td>\n",
       "      <td>Среднее</td>\n",
       "      <td>1</td>\n",
       "      <td>женат / замужем</td>\n",
       "      <td>0</td>\n",
       "      <td>M</td>\n",
       "      <td>компаньон</td>\n",
       "      <td>0</td>\n",
       "      <td>NaN</td>\n",
       "      <td>сделка с автомобилем</td>\n",
       "      <td>NaN</td>\n",
       "    </tr>\n",
       "    <tr>\n",
       "      <th>21495</th>\n",
       "      <td>1</td>\n",
       "      <td>50</td>\n",
       "      <td>среднее</td>\n",
       "      <td>1</td>\n",
       "      <td>гражданский брак</td>\n",
       "      <td>1</td>\n",
       "      <td>F</td>\n",
       "      <td>сотрудник</td>\n",
       "      <td>0</td>\n",
       "      <td>NaN</td>\n",
       "      <td>свадьба</td>\n",
       "      <td>NaN</td>\n",
       "    </tr>\n",
       "    <tr>\n",
       "      <th>21497</th>\n",
       "      <td>0</td>\n",
       "      <td>48</td>\n",
       "      <td>ВЫСШЕЕ</td>\n",
       "      <td>0</td>\n",
       "      <td>женат / замужем</td>\n",
       "      <td>0</td>\n",
       "      <td>F</td>\n",
       "      <td>компаньон</td>\n",
       "      <td>0</td>\n",
       "      <td>NaN</td>\n",
       "      <td>строительство недвижимости</td>\n",
       "      <td>NaN</td>\n",
       "    </tr>\n",
       "    <tr>\n",
       "      <th>21502</th>\n",
       "      <td>1</td>\n",
       "      <td>42</td>\n",
       "      <td>среднее</td>\n",
       "      <td>1</td>\n",
       "      <td>женат / замужем</td>\n",
       "      <td>0</td>\n",
       "      <td>F</td>\n",
       "      <td>сотрудник</td>\n",
       "      <td>0</td>\n",
       "      <td>NaN</td>\n",
       "      <td>строительство жилой недвижимости</td>\n",
       "      <td>NaN</td>\n",
       "    </tr>\n",
       "    <tr>\n",
       "      <th>21510</th>\n",
       "      <td>2</td>\n",
       "      <td>28</td>\n",
       "      <td>среднее</td>\n",
       "      <td>1</td>\n",
       "      <td>женат / замужем</td>\n",
       "      <td>0</td>\n",
       "      <td>F</td>\n",
       "      <td>сотрудник</td>\n",
       "      <td>0</td>\n",
       "      <td>NaN</td>\n",
       "      <td>приобретение автомобиля</td>\n",
       "      <td>NaN</td>\n",
       "    </tr>\n",
       "  </tbody>\n",
       "</table>\n",
       "<p>21525 rows × 12 columns</p>\n",
       "</div>"
      ],
      "text/plain": [
       "       children_number  client_age education_level  education_level_id  \\\n",
       "16335                1          61         среднее                   1   \n",
       "4299                 0          61         среднее                   1   \n",
       "6954                 0          56         среднее                   1   \n",
       "10006                0          69          высшее                   0   \n",
       "7664                 1          61         среднее                   1   \n",
       "...                ...         ...             ...                 ...   \n",
       "21489                2          47         Среднее                   1   \n",
       "21495                1          50         среднее                   1   \n",
       "21497                0          48          ВЫСШЕЕ                   0   \n",
       "21502                1          42         среднее                   1   \n",
       "21510                2          28         среднее                   1   \n",
       "\n",
       "               family_status  family_status_id gender employment_type  \\\n",
       "16335        женат / замужем                 0      F       сотрудник   \n",
       "4299         женат / замужем                 0      F       компаньон   \n",
       "6954          вдовец / вдова                 2      F       пенсионер   \n",
       "10006  Не женат / не замужем                 4      F       пенсионер   \n",
       "7664         женат / замужем                 0      F       пенсионер   \n",
       "...                      ...               ...    ...             ...   \n",
       "21489        женат / замужем                 0      M       компаньон   \n",
       "21495       гражданский брак                 1      F       сотрудник   \n",
       "21497        женат / замужем                 0      F       компаньон   \n",
       "21502        женат / замужем                 0      F       сотрудник   \n",
       "21510        женат / замужем                 0      F       сотрудник   \n",
       "\n",
       "       debt_status   month_income                    credit_purpose  \\\n",
       "16335            0  186178.934089          операции с недвижимостью   \n",
       "4299             0  122560.741753                     покупка жилья   \n",
       "6954             0  176278.441171                      ремонт жилью   \n",
       "10006            0   57390.256908             получение образования   \n",
       "7664             0  126214.519212                 операции с жильем   \n",
       "...            ...            ...                               ...   \n",
       "21489            0            NaN              сделка с автомобилем   \n",
       "21495            0            NaN                           свадьба   \n",
       "21497            0            NaN        строительство недвижимости   \n",
       "21502            0            NaN  строительство жилой недвижимости   \n",
       "21510            0            NaN           приобретение автомобиля   \n",
       "\n",
       "       work_experience_years  \n",
       "16335              50.380685  \n",
       "4299               48.261817  \n",
       "6954               45.862489  \n",
       "10006              45.857969  \n",
       "7664               45.853321  \n",
       "...                      ...  \n",
       "21489                    NaN  \n",
       "21495                    NaN  \n",
       "21497                    NaN  \n",
       "21502                    NaN  \n",
       "21510                    NaN  \n",
       "\n",
       "[21525 rows x 12 columns]"
      ]
     },
     "execution_count": 19,
     "metadata": {},
     "output_type": "execute_result"
    }
   ],
   "source": [
    "clients.sort_values(by='work_experience_years', ascending = False)"
   ]
  },
  {
   "cell_type": "code",
   "execution_count": 20,
   "metadata": {},
   "outputs": [
    {
     "data": {
      "text/html": [
       "<div>\n",
       "<style scoped>\n",
       "    .dataframe tbody tr th:only-of-type {\n",
       "        vertical-align: middle;\n",
       "    }\n",
       "\n",
       "    .dataframe tbody tr th {\n",
       "        vertical-align: top;\n",
       "    }\n",
       "\n",
       "    .dataframe thead th {\n",
       "        text-align: right;\n",
       "    }\n",
       "</style>\n",
       "<table border=\"1\" class=\"dataframe\">\n",
       "  <thead>\n",
       "    <tr style=\"text-align: right;\">\n",
       "      <th></th>\n",
       "      <th>children_number</th>\n",
       "      <th>client_age</th>\n",
       "      <th>education_level</th>\n",
       "      <th>education_level_id</th>\n",
       "      <th>family_status</th>\n",
       "      <th>family_status_id</th>\n",
       "      <th>gender</th>\n",
       "      <th>employment_type</th>\n",
       "      <th>debt_status</th>\n",
       "      <th>month_income</th>\n",
       "      <th>credit_purpose</th>\n",
       "      <th>work_experience_years</th>\n",
       "    </tr>\n",
       "  </thead>\n",
       "  <tbody>\n",
       "    <tr>\n",
       "      <th>12412</th>\n",
       "      <td>0</td>\n",
       "      <td>44</td>\n",
       "      <td>высшее</td>\n",
       "      <td>0</td>\n",
       "      <td>женат / замужем</td>\n",
       "      <td>0</td>\n",
       "      <td>M</td>\n",
       "      <td>компаньон</td>\n",
       "      <td>0</td>\n",
       "      <td>2.265604e+06</td>\n",
       "      <td>ремонт жилью</td>\n",
       "      <td>4.047776</td>\n",
       "    </tr>\n",
       "    <tr>\n",
       "      <th>19606</th>\n",
       "      <td>1</td>\n",
       "      <td>39</td>\n",
       "      <td>высшее</td>\n",
       "      <td>0</td>\n",
       "      <td>женат / замужем</td>\n",
       "      <td>0</td>\n",
       "      <td>M</td>\n",
       "      <td>компаньон</td>\n",
       "      <td>1</td>\n",
       "      <td>2.200852e+06</td>\n",
       "      <td>строительство недвижимости</td>\n",
       "      <td>7.062095</td>\n",
       "    </tr>\n",
       "    <tr>\n",
       "      <th>9169</th>\n",
       "      <td>1</td>\n",
       "      <td>35</td>\n",
       "      <td>среднее</td>\n",
       "      <td>1</td>\n",
       "      <td>гражданский брак</td>\n",
       "      <td>1</td>\n",
       "      <td>M</td>\n",
       "      <td>сотрудник</td>\n",
       "      <td>0</td>\n",
       "      <td>1.726276e+06</td>\n",
       "      <td>дополнительное образование</td>\n",
       "      <td>14.379601</td>\n",
       "    </tr>\n",
       "    <tr>\n",
       "      <th>20809</th>\n",
       "      <td>0</td>\n",
       "      <td>61</td>\n",
       "      <td>среднее</td>\n",
       "      <td>1</td>\n",
       "      <td>Не женат / не замужем</td>\n",
       "      <td>4</td>\n",
       "      <td>F</td>\n",
       "      <td>сотрудник</td>\n",
       "      <td>0</td>\n",
       "      <td>1.715018e+06</td>\n",
       "      <td>покупка жилья для семьи</td>\n",
       "      <td>12.929516</td>\n",
       "    </tr>\n",
       "    <tr>\n",
       "      <th>17178</th>\n",
       "      <td>0</td>\n",
       "      <td>42</td>\n",
       "      <td>высшее</td>\n",
       "      <td>0</td>\n",
       "      <td>гражданский брак</td>\n",
       "      <td>1</td>\n",
       "      <td>M</td>\n",
       "      <td>компаньон</td>\n",
       "      <td>0</td>\n",
       "      <td>1.711309e+06</td>\n",
       "      <td>сыграть свадьбу</td>\n",
       "      <td>15.709937</td>\n",
       "    </tr>\n",
       "    <tr>\n",
       "      <th>...</th>\n",
       "      <td>...</td>\n",
       "      <td>...</td>\n",
       "      <td>...</td>\n",
       "      <td>...</td>\n",
       "      <td>...</td>\n",
       "      <td>...</td>\n",
       "      <td>...</td>\n",
       "      <td>...</td>\n",
       "      <td>...</td>\n",
       "      <td>...</td>\n",
       "      <td>...</td>\n",
       "      <td>...</td>\n",
       "    </tr>\n",
       "    <tr>\n",
       "      <th>21489</th>\n",
       "      <td>2</td>\n",
       "      <td>47</td>\n",
       "      <td>Среднее</td>\n",
       "      <td>1</td>\n",
       "      <td>женат / замужем</td>\n",
       "      <td>0</td>\n",
       "      <td>M</td>\n",
       "      <td>компаньон</td>\n",
       "      <td>0</td>\n",
       "      <td>NaN</td>\n",
       "      <td>сделка с автомобилем</td>\n",
       "      <td>NaN</td>\n",
       "    </tr>\n",
       "    <tr>\n",
       "      <th>21495</th>\n",
       "      <td>1</td>\n",
       "      <td>50</td>\n",
       "      <td>среднее</td>\n",
       "      <td>1</td>\n",
       "      <td>гражданский брак</td>\n",
       "      <td>1</td>\n",
       "      <td>F</td>\n",
       "      <td>сотрудник</td>\n",
       "      <td>0</td>\n",
       "      <td>NaN</td>\n",
       "      <td>свадьба</td>\n",
       "      <td>NaN</td>\n",
       "    </tr>\n",
       "    <tr>\n",
       "      <th>21497</th>\n",
       "      <td>0</td>\n",
       "      <td>48</td>\n",
       "      <td>ВЫСШЕЕ</td>\n",
       "      <td>0</td>\n",
       "      <td>женат / замужем</td>\n",
       "      <td>0</td>\n",
       "      <td>F</td>\n",
       "      <td>компаньон</td>\n",
       "      <td>0</td>\n",
       "      <td>NaN</td>\n",
       "      <td>строительство недвижимости</td>\n",
       "      <td>NaN</td>\n",
       "    </tr>\n",
       "    <tr>\n",
       "      <th>21502</th>\n",
       "      <td>1</td>\n",
       "      <td>42</td>\n",
       "      <td>среднее</td>\n",
       "      <td>1</td>\n",
       "      <td>женат / замужем</td>\n",
       "      <td>0</td>\n",
       "      <td>F</td>\n",
       "      <td>сотрудник</td>\n",
       "      <td>0</td>\n",
       "      <td>NaN</td>\n",
       "      <td>строительство жилой недвижимости</td>\n",
       "      <td>NaN</td>\n",
       "    </tr>\n",
       "    <tr>\n",
       "      <th>21510</th>\n",
       "      <td>2</td>\n",
       "      <td>28</td>\n",
       "      <td>среднее</td>\n",
       "      <td>1</td>\n",
       "      <td>женат / замужем</td>\n",
       "      <td>0</td>\n",
       "      <td>F</td>\n",
       "      <td>сотрудник</td>\n",
       "      <td>0</td>\n",
       "      <td>NaN</td>\n",
       "      <td>приобретение автомобиля</td>\n",
       "      <td>NaN</td>\n",
       "    </tr>\n",
       "  </tbody>\n",
       "</table>\n",
       "<p>21525 rows × 12 columns</p>\n",
       "</div>"
      ],
      "text/plain": [
       "       children_number  client_age education_level  education_level_id  \\\n",
       "12412                0          44          высшее                   0   \n",
       "19606                1          39          высшее                   0   \n",
       "9169                 1          35         среднее                   1   \n",
       "20809                0          61         среднее                   1   \n",
       "17178                0          42          высшее                   0   \n",
       "...                ...         ...             ...                 ...   \n",
       "21489                2          47         Среднее                   1   \n",
       "21495                1          50         среднее                   1   \n",
       "21497                0          48          ВЫСШЕЕ                   0   \n",
       "21502                1          42         среднее                   1   \n",
       "21510                2          28         среднее                   1   \n",
       "\n",
       "               family_status  family_status_id gender employment_type  \\\n",
       "12412        женат / замужем                 0      M       компаньон   \n",
       "19606        женат / замужем                 0      M       компаньон   \n",
       "9169        гражданский брак                 1      M       сотрудник   \n",
       "20809  Не женат / не замужем                 4      F       сотрудник   \n",
       "17178       гражданский брак                 1      M       компаньон   \n",
       "...                      ...               ...    ...             ...   \n",
       "21489        женат / замужем                 0      M       компаньон   \n",
       "21495       гражданский брак                 1      F       сотрудник   \n",
       "21497        женат / замужем                 0      F       компаньон   \n",
       "21502        женат / замужем                 0      F       сотрудник   \n",
       "21510        женат / замужем                 0      F       сотрудник   \n",
       "\n",
       "       debt_status  month_income                    credit_purpose  \\\n",
       "12412            0  2.265604e+06                      ремонт жилью   \n",
       "19606            1  2.200852e+06        строительство недвижимости   \n",
       "9169             0  1.726276e+06        дополнительное образование   \n",
       "20809            0  1.715018e+06           покупка жилья для семьи   \n",
       "17178            0  1.711309e+06                   сыграть свадьбу   \n",
       "...            ...           ...                               ...   \n",
       "21489            0           NaN              сделка с автомобилем   \n",
       "21495            0           NaN                           свадьба   \n",
       "21497            0           NaN        строительство недвижимости   \n",
       "21502            0           NaN  строительство жилой недвижимости   \n",
       "21510            0           NaN           приобретение автомобиля   \n",
       "\n",
       "       work_experience_years  \n",
       "12412               4.047776  \n",
       "19606               7.062095  \n",
       "9169               14.379601  \n",
       "20809              12.929516  \n",
       "17178              15.709937  \n",
       "...                      ...  \n",
       "21489                    NaN  \n",
       "21495                    NaN  \n",
       "21497                    NaN  \n",
       "21502                    NaN  \n",
       "21510                    NaN  \n",
       "\n",
       "[21525 rows x 12 columns]"
      ]
     },
     "execution_count": 20,
     "metadata": {},
     "output_type": "execute_result"
    }
   ],
   "source": [
    "clients.sort_values(by='month_income', ascending = False)"
   ]
  },
  {
   "cell_type": "markdown",
   "metadata": {},
   "source": [
    "Посмотрим для каких типов занятости в таблице есть пропуски по трудовому стажу"
   ]
  },
  {
   "cell_type": "code",
   "execution_count": 21,
   "metadata": {},
   "outputs": [
    {
     "data": {
      "text/html": [
       "<div>\n",
       "<style scoped>\n",
       "    .dataframe tbody tr th:only-of-type {\n",
       "        vertical-align: middle;\n",
       "    }\n",
       "\n",
       "    .dataframe tbody tr th {\n",
       "        vertical-align: top;\n",
       "    }\n",
       "\n",
       "    .dataframe thead th {\n",
       "        text-align: right;\n",
       "    }\n",
       "</style>\n",
       "<table border=\"1\" class=\"dataframe\">\n",
       "  <thead>\n",
       "    <tr style=\"text-align: right;\">\n",
       "      <th></th>\n",
       "      <th>children_number</th>\n",
       "      <th>client_age</th>\n",
       "      <th>education_level</th>\n",
       "      <th>education_level_id</th>\n",
       "      <th>family_status</th>\n",
       "      <th>family_status_id</th>\n",
       "      <th>gender</th>\n",
       "      <th>debt_status</th>\n",
       "      <th>month_income</th>\n",
       "      <th>credit_purpose</th>\n",
       "      <th>work_experience_years</th>\n",
       "    </tr>\n",
       "    <tr>\n",
       "      <th>employment_type</th>\n",
       "      <th></th>\n",
       "      <th></th>\n",
       "      <th></th>\n",
       "      <th></th>\n",
       "      <th></th>\n",
       "      <th></th>\n",
       "      <th></th>\n",
       "      <th></th>\n",
       "      <th></th>\n",
       "      <th></th>\n",
       "      <th></th>\n",
       "    </tr>\n",
       "  </thead>\n",
       "  <tbody>\n",
       "    <tr>\n",
       "      <th>госслужащий</th>\n",
       "      <td>147</td>\n",
       "      <td>147</td>\n",
       "      <td>147</td>\n",
       "      <td>147</td>\n",
       "      <td>147</td>\n",
       "      <td>147</td>\n",
       "      <td>147</td>\n",
       "      <td>147</td>\n",
       "      <td>0</td>\n",
       "      <td>147</td>\n",
       "      <td>0</td>\n",
       "    </tr>\n",
       "    <tr>\n",
       "      <th>компаньон</th>\n",
       "      <td>508</td>\n",
       "      <td>508</td>\n",
       "      <td>508</td>\n",
       "      <td>508</td>\n",
       "      <td>508</td>\n",
       "      <td>508</td>\n",
       "      <td>508</td>\n",
       "      <td>508</td>\n",
       "      <td>0</td>\n",
       "      <td>508</td>\n",
       "      <td>0</td>\n",
       "    </tr>\n",
       "    <tr>\n",
       "      <th>пенсионер</th>\n",
       "      <td>413</td>\n",
       "      <td>413</td>\n",
       "      <td>413</td>\n",
       "      <td>413</td>\n",
       "      <td>413</td>\n",
       "      <td>413</td>\n",
       "      <td>413</td>\n",
       "      <td>413</td>\n",
       "      <td>0</td>\n",
       "      <td>413</td>\n",
       "      <td>0</td>\n",
       "    </tr>\n",
       "    <tr>\n",
       "      <th>предприниматель</th>\n",
       "      <td>1</td>\n",
       "      <td>1</td>\n",
       "      <td>1</td>\n",
       "      <td>1</td>\n",
       "      <td>1</td>\n",
       "      <td>1</td>\n",
       "      <td>1</td>\n",
       "      <td>1</td>\n",
       "      <td>0</td>\n",
       "      <td>1</td>\n",
       "      <td>0</td>\n",
       "    </tr>\n",
       "    <tr>\n",
       "      <th>сотрудник</th>\n",
       "      <td>1105</td>\n",
       "      <td>1105</td>\n",
       "      <td>1105</td>\n",
       "      <td>1105</td>\n",
       "      <td>1105</td>\n",
       "      <td>1105</td>\n",
       "      <td>1105</td>\n",
       "      <td>1105</td>\n",
       "      <td>0</td>\n",
       "      <td>1105</td>\n",
       "      <td>0</td>\n",
       "    </tr>\n",
       "  </tbody>\n",
       "</table>\n",
       "</div>"
      ],
      "text/plain": [
       "                 children_number  client_age  education_level  \\\n",
       "employment_type                                                 \n",
       "госслужащий                  147         147              147   \n",
       "компаньон                    508         508              508   \n",
       "пенсионер                    413         413              413   \n",
       "предприниматель                1           1                1   \n",
       "сотрудник                   1105        1105             1105   \n",
       "\n",
       "                 education_level_id  family_status  family_status_id  gender  \\\n",
       "employment_type                                                                \n",
       "госслужащий                     147            147               147     147   \n",
       "компаньон                       508            508               508     508   \n",
       "пенсионер                       413            413               413     413   \n",
       "предприниматель                   1              1                 1       1   \n",
       "сотрудник                      1105           1105              1105    1105   \n",
       "\n",
       "                 debt_status  month_income  credit_purpose  \\\n",
       "employment_type                                              \n",
       "госслужащий              147             0             147   \n",
       "компаньон                508             0             508   \n",
       "пенсионер                413             0             413   \n",
       "предприниматель            1             0               1   \n",
       "сотрудник               1105             0            1105   \n",
       "\n",
       "                 work_experience_years  \n",
       "employment_type                         \n",
       "госслужащий                          0  \n",
       "компаньон                            0  \n",
       "пенсионер                            0  \n",
       "предприниматель                      0  \n",
       "сотрудник                            0  "
      ]
     },
     "execution_count": 21,
     "metadata": {},
     "output_type": "execute_result"
    }
   ],
   "source": [
    "clients[clients['work_experience_years'].isna()].groupby('employment_type').count()"
   ]
  },
  {
   "cell_type": "markdown",
   "metadata": {},
   "source": [
    "Аналогично выявляем пропуски в ежемесячном доходе "
   ]
  },
  {
   "cell_type": "code",
   "execution_count": 22,
   "metadata": {},
   "outputs": [
    {
     "data": {
      "text/html": [
       "<div>\n",
       "<style scoped>\n",
       "    .dataframe tbody tr th:only-of-type {\n",
       "        vertical-align: middle;\n",
       "    }\n",
       "\n",
       "    .dataframe tbody tr th {\n",
       "        vertical-align: top;\n",
       "    }\n",
       "\n",
       "    .dataframe thead th {\n",
       "        text-align: right;\n",
       "    }\n",
       "</style>\n",
       "<table border=\"1\" class=\"dataframe\">\n",
       "  <thead>\n",
       "    <tr style=\"text-align: right;\">\n",
       "      <th></th>\n",
       "      <th>children_number</th>\n",
       "      <th>client_age</th>\n",
       "      <th>education_level</th>\n",
       "      <th>education_level_id</th>\n",
       "      <th>family_status</th>\n",
       "      <th>family_status_id</th>\n",
       "      <th>gender</th>\n",
       "      <th>debt_status</th>\n",
       "      <th>month_income</th>\n",
       "      <th>credit_purpose</th>\n",
       "      <th>work_experience_years</th>\n",
       "    </tr>\n",
       "    <tr>\n",
       "      <th>employment_type</th>\n",
       "      <th></th>\n",
       "      <th></th>\n",
       "      <th></th>\n",
       "      <th></th>\n",
       "      <th></th>\n",
       "      <th></th>\n",
       "      <th></th>\n",
       "      <th></th>\n",
       "      <th></th>\n",
       "      <th></th>\n",
       "      <th></th>\n",
       "    </tr>\n",
       "  </thead>\n",
       "  <tbody>\n",
       "    <tr>\n",
       "      <th>госслужащий</th>\n",
       "      <td>147</td>\n",
       "      <td>147</td>\n",
       "      <td>147</td>\n",
       "      <td>147</td>\n",
       "      <td>147</td>\n",
       "      <td>147</td>\n",
       "      <td>147</td>\n",
       "      <td>147</td>\n",
       "      <td>0</td>\n",
       "      <td>147</td>\n",
       "      <td>0</td>\n",
       "    </tr>\n",
       "    <tr>\n",
       "      <th>компаньон</th>\n",
       "      <td>508</td>\n",
       "      <td>508</td>\n",
       "      <td>508</td>\n",
       "      <td>508</td>\n",
       "      <td>508</td>\n",
       "      <td>508</td>\n",
       "      <td>508</td>\n",
       "      <td>508</td>\n",
       "      <td>0</td>\n",
       "      <td>508</td>\n",
       "      <td>0</td>\n",
       "    </tr>\n",
       "    <tr>\n",
       "      <th>пенсионер</th>\n",
       "      <td>413</td>\n",
       "      <td>413</td>\n",
       "      <td>413</td>\n",
       "      <td>413</td>\n",
       "      <td>413</td>\n",
       "      <td>413</td>\n",
       "      <td>413</td>\n",
       "      <td>413</td>\n",
       "      <td>0</td>\n",
       "      <td>413</td>\n",
       "      <td>0</td>\n",
       "    </tr>\n",
       "    <tr>\n",
       "      <th>предприниматель</th>\n",
       "      <td>1</td>\n",
       "      <td>1</td>\n",
       "      <td>1</td>\n",
       "      <td>1</td>\n",
       "      <td>1</td>\n",
       "      <td>1</td>\n",
       "      <td>1</td>\n",
       "      <td>1</td>\n",
       "      <td>0</td>\n",
       "      <td>1</td>\n",
       "      <td>0</td>\n",
       "    </tr>\n",
       "    <tr>\n",
       "      <th>сотрудник</th>\n",
       "      <td>1105</td>\n",
       "      <td>1105</td>\n",
       "      <td>1105</td>\n",
       "      <td>1105</td>\n",
       "      <td>1105</td>\n",
       "      <td>1105</td>\n",
       "      <td>1105</td>\n",
       "      <td>1105</td>\n",
       "      <td>0</td>\n",
       "      <td>1105</td>\n",
       "      <td>0</td>\n",
       "    </tr>\n",
       "  </tbody>\n",
       "</table>\n",
       "</div>"
      ],
      "text/plain": [
       "                 children_number  client_age  education_level  \\\n",
       "employment_type                                                 \n",
       "госслужащий                  147         147              147   \n",
       "компаньон                    508         508              508   \n",
       "пенсионер                    413         413              413   \n",
       "предприниматель                1           1                1   \n",
       "сотрудник                   1105        1105             1105   \n",
       "\n",
       "                 education_level_id  family_status  family_status_id  gender  \\\n",
       "employment_type                                                                \n",
       "госслужащий                     147            147               147     147   \n",
       "компаньон                       508            508               508     508   \n",
       "пенсионер                       413            413               413     413   \n",
       "предприниматель                   1              1                 1       1   \n",
       "сотрудник                      1105           1105              1105    1105   \n",
       "\n",
       "                 debt_status  month_income  credit_purpose  \\\n",
       "employment_type                                              \n",
       "госслужащий              147             0             147   \n",
       "компаньон                508             0             508   \n",
       "пенсионер                413             0             413   \n",
       "предприниматель            1             0               1   \n",
       "сотрудник               1105             0            1105   \n",
       "\n",
       "                 work_experience_years  \n",
       "employment_type                         \n",
       "госслужащий                          0  \n",
       "компаньон                            0  \n",
       "пенсионер                            0  \n",
       "предприниматель                      0  \n",
       "сотрудник                            0  "
      ]
     },
     "execution_count": 22,
     "metadata": {},
     "output_type": "execute_result"
    }
   ],
   "source": [
    "clients[clients['month_income'].isna()].groupby('employment_type').count()"
   ]
  },
  {
   "cell_type": "markdown",
   "metadata": {},
   "source": [
    "Как мы видим, пропуски присутствуют в трудовом стаже и ежемесячном доходе не для всех типов занятости. Среднее значение будем рассчитывать только для тех типов занятости, где есть пропуски."
   ]
  },
  {
   "cell_type": "markdown",
   "metadata": {},
   "source": [
    "Сформируем сводные таблицы с группировкой по типу занятости и измерением трудового стажа. Выбрано среднее значение, а не медиана, т.к. при просмотре отсортированной таблицы выше не наблюдается артефактов. Например, большое значение стажа свыше 400000 дней одинаково у первых пяти записей и это пенисионеры"
   ]
  },
  {
   "cell_type": "code",
   "execution_count": 23,
   "metadata": {},
   "outputs": [],
   "source": [
    "group_experience = clients.groupby('employment_type')['work_experience_years'].mean()"
   ]
  },
  {
   "cell_type": "markdown",
   "metadata": {},
   "source": [
    "Используя цикл заполним пропуски средним значением стажа по типу занятости"
   ]
  },
  {
   "cell_type": "code",
   "execution_count": 24,
   "metadata": {},
   "outputs": [],
   "source": [
    "for i in group_experience.index:\n",
    "\n",
    "    clients.loc[(clients['employment_type'] == i) & (\n",
    "        clients['work_experience_years'].isna()), 'work_experience_years'] = group_experience[i]"
   ]
  },
  {
   "cell_type": "markdown",
   "metadata": {},
   "source": [
    "Аналогично заполнению пропусков для стажа сделаем сводную таблицу с группировкой по типу занятости и доходам. Также выбираем среднее значение, а не медиану, т.к. суммы дохода не выбиваются из общей картины ни с наибольшими, ни с наименьшими значениями."
   ]
  },
  {
   "cell_type": "code",
   "execution_count": 25,
   "metadata": {},
   "outputs": [],
   "source": [
    "group_income = clients.groupby('employment_type')['month_income'].mean()"
   ]
  },
  {
   "cell_type": "markdown",
   "metadata": {},
   "source": [
    "Используя цикл заполним пропуски средним значением дохода по типу занятости"
   ]
  },
  {
   "cell_type": "code",
   "execution_count": 26,
   "metadata": {},
   "outputs": [],
   "source": [
    "for i in group_income.index:\n",
    "\n",
    "    clients.loc[(clients['employment_type'] == i) & (\n",
    "        clients['month_income'].isna()), 'month_income'] = group_income[i]"
   ]
  },
  {
   "cell_type": "markdown",
   "metadata": {},
   "source": [
    "Применяем к таблице метод isna() и видим, что пропусков не осталось"
   ]
  },
  {
   "cell_type": "code",
   "execution_count": 27,
   "metadata": {},
   "outputs": [
    {
     "data": {
      "text/plain": [
       "children_number          0\n",
       "client_age               0\n",
       "education_level          0\n",
       "education_level_id       0\n",
       "family_status            0\n",
       "family_status_id         0\n",
       "gender                   0\n",
       "employment_type          0\n",
       "debt_status              0\n",
       "month_income             0\n",
       "credit_purpose           0\n",
       "work_experience_years    0\n",
       "dtype: int64"
      ]
     },
     "execution_count": 27,
     "metadata": {},
     "output_type": "execute_result"
    }
   ],
   "source": [
    "clients.isna().sum()"
   ]
  },
  {
   "cell_type": "markdown",
   "metadata": {},
   "source": [
    "Не всегда пропуски обозначены явно. Посмотрим на статистику по таблице с учетом нечисловых столбцов. Мы видим странное количество уникальных значений в столбце с полом, равное трем, а также значение минимального возраста клиента, равное 0"
   ]
  },
  {
   "cell_type": "code",
   "execution_count": 28,
   "metadata": {},
   "outputs": [
    {
     "data": {
      "text/html": [
       "<div>\n",
       "<style scoped>\n",
       "    .dataframe tbody tr th:only-of-type {\n",
       "        vertical-align: middle;\n",
       "    }\n",
       "\n",
       "    .dataframe tbody tr th {\n",
       "        vertical-align: top;\n",
       "    }\n",
       "\n",
       "    .dataframe thead th {\n",
       "        text-align: right;\n",
       "    }\n",
       "</style>\n",
       "<table border=\"1\" class=\"dataframe\">\n",
       "  <thead>\n",
       "    <tr style=\"text-align: right;\">\n",
       "      <th></th>\n",
       "      <th>children_number</th>\n",
       "      <th>client_age</th>\n",
       "      <th>education_level</th>\n",
       "      <th>education_level_id</th>\n",
       "      <th>family_status</th>\n",
       "      <th>family_status_id</th>\n",
       "      <th>gender</th>\n",
       "      <th>employment_type</th>\n",
       "      <th>debt_status</th>\n",
       "      <th>month_income</th>\n",
       "      <th>credit_purpose</th>\n",
       "      <th>work_experience_years</th>\n",
       "    </tr>\n",
       "  </thead>\n",
       "  <tbody>\n",
       "    <tr>\n",
       "      <th>count</th>\n",
       "      <td>21525.000000</td>\n",
       "      <td>21525.000000</td>\n",
       "      <td>21525</td>\n",
       "      <td>21525.000000</td>\n",
       "      <td>21525</td>\n",
       "      <td>21525.000000</td>\n",
       "      <td>21525</td>\n",
       "      <td>21525</td>\n",
       "      <td>21525.000000</td>\n",
       "      <td>2.152500e+04</td>\n",
       "      <td>21525</td>\n",
       "      <td>21525.000000</td>\n",
       "    </tr>\n",
       "    <tr>\n",
       "      <th>unique</th>\n",
       "      <td>NaN</td>\n",
       "      <td>NaN</td>\n",
       "      <td>15</td>\n",
       "      <td>NaN</td>\n",
       "      <td>5</td>\n",
       "      <td>NaN</td>\n",
       "      <td>3</td>\n",
       "      <td>8</td>\n",
       "      <td>NaN</td>\n",
       "      <td>NaN</td>\n",
       "      <td>38</td>\n",
       "      <td>NaN</td>\n",
       "    </tr>\n",
       "    <tr>\n",
       "      <th>top</th>\n",
       "      <td>NaN</td>\n",
       "      <td>NaN</td>\n",
       "      <td>среднее</td>\n",
       "      <td>NaN</td>\n",
       "      <td>женат / замужем</td>\n",
       "      <td>NaN</td>\n",
       "      <td>F</td>\n",
       "      <td>сотрудник</td>\n",
       "      <td>NaN</td>\n",
       "      <td>NaN</td>\n",
       "      <td>свадьба</td>\n",
       "      <td>NaN</td>\n",
       "    </tr>\n",
       "    <tr>\n",
       "      <th>freq</th>\n",
       "      <td>NaN</td>\n",
       "      <td>NaN</td>\n",
       "      <td>13750</td>\n",
       "      <td>NaN</td>\n",
       "      <td>12380</td>\n",
       "      <td>NaN</td>\n",
       "      <td>14236</td>\n",
       "      <td>11119</td>\n",
       "      <td>NaN</td>\n",
       "      <td>NaN</td>\n",
       "      <td>797</td>\n",
       "      <td>NaN</td>\n",
       "    </tr>\n",
       "    <tr>\n",
       "      <th>mean</th>\n",
       "      <td>0.479721</td>\n",
       "      <td>43.293380</td>\n",
       "      <td>NaN</td>\n",
       "      <td>0.817236</td>\n",
       "      <td>NaN</td>\n",
       "      <td>0.972544</td>\n",
       "      <td>NaN</td>\n",
       "      <td>NaN</td>\n",
       "      <td>0.080883</td>\n",
       "      <td>1.673959e+05</td>\n",
       "      <td>NaN</td>\n",
       "      <td>12.759326</td>\n",
       "    </tr>\n",
       "    <tr>\n",
       "      <th>std</th>\n",
       "      <td>0.755528</td>\n",
       "      <td>12.574584</td>\n",
       "      <td>NaN</td>\n",
       "      <td>0.548138</td>\n",
       "      <td>NaN</td>\n",
       "      <td>1.420324</td>\n",
       "      <td>NaN</td>\n",
       "      <td>NaN</td>\n",
       "      <td>0.272661</td>\n",
       "      <td>9.790695e+04</td>\n",
       "      <td>NaN</td>\n",
       "      <td>14.592415</td>\n",
       "    </tr>\n",
       "    <tr>\n",
       "      <th>min</th>\n",
       "      <td>0.000000</td>\n",
       "      <td>0.000000</td>\n",
       "      <td>NaN</td>\n",
       "      <td>0.000000</td>\n",
       "      <td>NaN</td>\n",
       "      <td>0.000000</td>\n",
       "      <td>NaN</td>\n",
       "      <td>NaN</td>\n",
       "      <td>0.000000</td>\n",
       "      <td>2.066726e+04</td>\n",
       "      <td>NaN</td>\n",
       "      <td>0.066141</td>\n",
       "    </tr>\n",
       "    <tr>\n",
       "      <th>25%</th>\n",
       "      <td>0.000000</td>\n",
       "      <td>33.000000</td>\n",
       "      <td>NaN</td>\n",
       "      <td>1.000000</td>\n",
       "      <td>NaN</td>\n",
       "      <td>0.000000</td>\n",
       "      <td>NaN</td>\n",
       "      <td>NaN</td>\n",
       "      <td>0.000000</td>\n",
       "      <td>1.077982e+05</td>\n",
       "      <td>NaN</td>\n",
       "      <td>2.809725</td>\n",
       "    </tr>\n",
       "    <tr>\n",
       "      <th>50%</th>\n",
       "      <td>0.000000</td>\n",
       "      <td>42.000000</td>\n",
       "      <td>NaN</td>\n",
       "      <td>1.000000</td>\n",
       "      <td>NaN</td>\n",
       "      <td>0.000000</td>\n",
       "      <td>NaN</td>\n",
       "      <td>NaN</td>\n",
       "      <td>0.000000</td>\n",
       "      <td>1.519313e+05</td>\n",
       "      <td>NaN</td>\n",
       "      <td>6.373970</td>\n",
       "    </tr>\n",
       "    <tr>\n",
       "      <th>75%</th>\n",
       "      <td>1.000000</td>\n",
       "      <td>53.000000</td>\n",
       "      <td>NaN</td>\n",
       "      <td>1.000000</td>\n",
       "      <td>NaN</td>\n",
       "      <td>1.000000</td>\n",
       "      <td>NaN</td>\n",
       "      <td>NaN</td>\n",
       "      <td>0.000000</td>\n",
       "      <td>2.024175e+05</td>\n",
       "      <td>NaN</td>\n",
       "      <td>14.649382</td>\n",
       "    </tr>\n",
       "    <tr>\n",
       "      <th>max</th>\n",
       "      <td>5.000000</td>\n",
       "      <td>75.000000</td>\n",
       "      <td>NaN</td>\n",
       "      <td>4.000000</td>\n",
       "      <td>NaN</td>\n",
       "      <td>4.000000</td>\n",
       "      <td>NaN</td>\n",
       "      <td>NaN</td>\n",
       "      <td>1.000000</td>\n",
       "      <td>2.265604e+06</td>\n",
       "      <td>NaN</td>\n",
       "      <td>50.380685</td>\n",
       "    </tr>\n",
       "  </tbody>\n",
       "</table>\n",
       "</div>"
      ],
      "text/plain": [
       "        children_number    client_age education_level  education_level_id  \\\n",
       "count      21525.000000  21525.000000           21525        21525.000000   \n",
       "unique              NaN           NaN              15                 NaN   \n",
       "top                 NaN           NaN         среднее                 NaN   \n",
       "freq                NaN           NaN           13750                 NaN   \n",
       "mean           0.479721     43.293380             NaN            0.817236   \n",
       "std            0.755528     12.574584             NaN            0.548138   \n",
       "min            0.000000      0.000000             NaN            0.000000   \n",
       "25%            0.000000     33.000000             NaN            1.000000   \n",
       "50%            0.000000     42.000000             NaN            1.000000   \n",
       "75%            1.000000     53.000000             NaN            1.000000   \n",
       "max            5.000000     75.000000             NaN            4.000000   \n",
       "\n",
       "          family_status  family_status_id gender employment_type  \\\n",
       "count             21525      21525.000000  21525           21525   \n",
       "unique                5               NaN      3               8   \n",
       "top     женат / замужем               NaN      F       сотрудник   \n",
       "freq              12380               NaN  14236           11119   \n",
       "mean                NaN          0.972544    NaN             NaN   \n",
       "std                 NaN          1.420324    NaN             NaN   \n",
       "min                 NaN          0.000000    NaN             NaN   \n",
       "25%                 NaN          0.000000    NaN             NaN   \n",
       "50%                 NaN          0.000000    NaN             NaN   \n",
       "75%                 NaN          1.000000    NaN             NaN   \n",
       "max                 NaN          4.000000    NaN             NaN   \n",
       "\n",
       "         debt_status  month_income credit_purpose  work_experience_years  \n",
       "count   21525.000000  2.152500e+04          21525           21525.000000  \n",
       "unique           NaN           NaN             38                    NaN  \n",
       "top              NaN           NaN        свадьба                    NaN  \n",
       "freq             NaN           NaN            797                    NaN  \n",
       "mean        0.080883  1.673959e+05            NaN              12.759326  \n",
       "std         0.272661  9.790695e+04            NaN              14.592415  \n",
       "min         0.000000  2.066726e+04            NaN               0.066141  \n",
       "25%         0.000000  1.077982e+05            NaN               2.809725  \n",
       "50%         0.000000  1.519313e+05            NaN               6.373970  \n",
       "75%         0.000000  2.024175e+05            NaN              14.649382  \n",
       "max         1.000000  2.265604e+06            NaN              50.380685  "
      ]
     },
     "execution_count": 28,
     "metadata": {},
     "output_type": "execute_result"
    }
   ],
   "source": [
    "clients.describe(include = 'all')"
   ]
  },
  {
   "cell_type": "markdown",
   "metadata": {},
   "source": [
    "Изучим столбец с полом и выявим третье значение"
   ]
  },
  {
   "cell_type": "code",
   "execution_count": 29,
   "metadata": {},
   "outputs": [
    {
     "data": {
      "text/plain": [
       "F      14236\n",
       "M       7288\n",
       "XNA        1\n",
       "Name: gender, dtype: int64"
      ]
     },
     "execution_count": 29,
     "metadata": {},
     "output_type": "execute_result"
    }
   ],
   "source": [
    "clients['gender'].value_counts()"
   ]
  },
  {
   "cell_type": "code",
   "execution_count": 30,
   "metadata": {},
   "outputs": [
    {
     "data": {
      "text/html": [
       "<div>\n",
       "<style scoped>\n",
       "    .dataframe tbody tr th:only-of-type {\n",
       "        vertical-align: middle;\n",
       "    }\n",
       "\n",
       "    .dataframe tbody tr th {\n",
       "        vertical-align: top;\n",
       "    }\n",
       "\n",
       "    .dataframe thead th {\n",
       "        text-align: right;\n",
       "    }\n",
       "</style>\n",
       "<table border=\"1\" class=\"dataframe\">\n",
       "  <thead>\n",
       "    <tr style=\"text-align: right;\">\n",
       "      <th></th>\n",
       "      <th>children_number</th>\n",
       "      <th>client_age</th>\n",
       "      <th>education_level</th>\n",
       "      <th>education_level_id</th>\n",
       "      <th>family_status</th>\n",
       "      <th>family_status_id</th>\n",
       "      <th>gender</th>\n",
       "      <th>employment_type</th>\n",
       "      <th>debt_status</th>\n",
       "      <th>month_income</th>\n",
       "      <th>credit_purpose</th>\n",
       "      <th>work_experience_years</th>\n",
       "    </tr>\n",
       "  </thead>\n",
       "  <tbody>\n",
       "    <tr>\n",
       "      <th>10701</th>\n",
       "      <td>0</td>\n",
       "      <td>24</td>\n",
       "      <td>неоконченное высшее</td>\n",
       "      <td>2</td>\n",
       "      <td>гражданский брак</td>\n",
       "      <td>1</td>\n",
       "      <td>XNA</td>\n",
       "      <td>компаньон</td>\n",
       "      <td>0</td>\n",
       "      <td>203905.157261</td>\n",
       "      <td>покупка недвижимости</td>\n",
       "      <td>6.461919</td>\n",
       "    </tr>\n",
       "  </tbody>\n",
       "</table>\n",
       "</div>"
      ],
      "text/plain": [
       "       children_number  client_age      education_level  education_level_id  \\\n",
       "10701                0          24  неоконченное высшее                   2   \n",
       "\n",
       "          family_status  family_status_id gender employment_type  debt_status  \\\n",
       "10701  гражданский брак                 1    XNA       компаньон            0   \n",
       "\n",
       "        month_income        credit_purpose  work_experience_years  \n",
       "10701  203905.157261  покупка недвижимости               6.461919  "
      ]
     },
     "execution_count": 30,
     "metadata": {},
     "output_type": "execute_result"
    }
   ],
   "source": [
    "clients.loc[clients['gender'] == 'XNA']"
   ]
  },
  {
   "cell_type": "markdown",
   "metadata": {},
   "source": [
    "Прежде, чем мы отнесем XNA к одному из значений F или M, посмотрим на статистику для похожих записей, где клиент является компаньоном, собирается купить недвижимость и ему меньше 30"
   ]
  },
  {
   "cell_type": "code",
   "execution_count": 31,
   "metadata": {},
   "outputs": [
    {
     "data": {
      "text/plain": [
       "F      21\n",
       "M      11\n",
       "XNA     1\n",
       "Name: gender, dtype: int64"
      ]
     },
     "execution_count": 31,
     "metadata": {},
     "output_type": "execute_result"
    }
   ],
   "source": [
    "clients.loc[(clients['client_age'] <30)&(clients['employment_type'] == 'компаньон') & (\n",
    "    clients['credit_purpose'] == 'покупка недвижимости')]['gender'].value_counts()"
   ]
  },
  {
   "cell_type": "markdown",
   "metadata": {},
   "source": [
    "Отнесем XNA к F"
   ]
  },
  {
   "cell_type": "code",
   "execution_count": 32,
   "metadata": {},
   "outputs": [],
   "source": [
    "clients['gender'] = clients['gender'].replace('XNA','F')"
   ]
  },
  {
   "cell_type": "code",
   "execution_count": 33,
   "metadata": {},
   "outputs": [
    {
     "data": {
      "text/plain": [
       "F    14237\n",
       "M     7288\n",
       "Name: gender, dtype: int64"
      ]
     },
     "execution_count": 33,
     "metadata": {},
     "output_type": "execute_result"
    }
   ],
   "source": [
    "clients['gender'].value_counts()"
   ]
  },
  {
   "cell_type": "markdown",
   "metadata": {},
   "source": [
    "Теперь посмотрим на возраст, равный 0. Также дополнительно зададим условие \"меньше 18 лет\", т.к. кредиты не выдают несовершеннолетним"
   ]
  },
  {
   "cell_type": "code",
   "execution_count": 34,
   "metadata": {},
   "outputs": [
    {
     "data": {
      "text/plain": [
       "0    101\n",
       "Name: client_age, dtype: int64"
      ]
     },
     "execution_count": 34,
     "metadata": {},
     "output_type": "execute_result"
    }
   ],
   "source": [
    "clients.loc[clients['client_age'] < 18]['client_age'].value_counts()"
   ]
  },
  {
   "cell_type": "markdown",
   "metadata": {},
   "source": [
    "Выявили 101 клиента с возрастом 0"
   ]
  },
  {
   "cell_type": "code",
   "execution_count": 35,
   "metadata": {},
   "outputs": [
    {
     "data": {
      "text/plain": [
       "женат / замужем          49\n",
       "гражданский брак         21\n",
       "Не женат / не замужем    16\n",
       "в разводе                10\n",
       "вдовец / вдова            5\n",
       "Name: family_status, dtype: int64"
      ]
     },
     "execution_count": 35,
     "metadata": {},
     "output_type": "execute_result"
    }
   ],
   "source": [
    "clients.loc[clients['client_age'] == 0]['family_status'].value_counts()"
   ]
  },
  {
   "cell_type": "markdown",
   "metadata": {},
   "source": [
    "Замену нулевого значения сделаем по медиане для возраста с учетом семейного статуса"
   ]
  },
  {
   "cell_type": "code",
   "execution_count": 36,
   "metadata": {},
   "outputs": [],
   "source": [
    "clients['client_age'] = clients.groupby(\n",
    "    'family_status')['client_age'].transform(lambda x: x.replace(0, int(x.median())))"
   ]
  },
  {
   "cell_type": "markdown",
   "metadata": {},
   "source": [
    "**Вывод**\n",
    "\n",
    "Предобработку данных мы начали с устранения отрицательных значений, которые наблюдались в трудовом стаже сотрудников. Для выявления причины таких значений по возможности необходимо понять источник данных. Вряд ли такое большое количество клиентов ошибочно ввели отрицательные значения на форме с заявкой на кредит. Дополнительно можно обратиться за теоретической частью к коллегам из отдела кадров, которые подскажут бывает ли на практике расчет трудового стажа с отрицательным значениям, в каких случаях это может произойти. \n",
    "\n",
    "Далее было обнаружено и устранено отрицательное значение для количества детей. Предположительно это могло быть вызвано тем, что форма, которую заполнял клиент, содержала счетчик в этом поле и ошибочно было выбрано отрицательное значение. \n",
    "\n",
    "Пропуски были обнаружены в трудовом стаже и ежемесячном доходе. Их количество совпадает даже после группировки по типам занятости, исходя из этого можно сделать вывод, что для каждого клиента эти значения пропущенны одновременно. Возможно, есть какая-то связь - если не указать трудовой стаж на форме с заявкой на кредит, то поле с ежемесячным доходом неактивно.\n",
    "\n",
    "Для заполнения пропусков мы использовали среднеарифметические значения, медиана не потребовалась, т.к. не было выявлено артефактов.\n",
    "Расчет среднего арифметического значения и заполнение пропусков для стажа и дохода мы произвели исходя из типов занятости, чтобы максимально приблизить данные к реальным. Т.к., например, доходы студентов ниже, чем у компаньонов, трудовой стаж пенсионеров выше, чем у остальных типов занятости и т.д. \n",
    "\n",
    "Также мы заменили аномальные значения для пола и возраста клиента"
   ]
  },
  {
   "cell_type": "markdown",
   "metadata": {},
   "source": [
    "### Замена типа данных"
   ]
  },
  {
   "cell_type": "markdown",
   "metadata": {},
   "source": [
    "Ранее мы выявили столбцы с вещественными числами - трудовой стаж и ежемесячный доход (с типом данных float64). Приведем их к целым числам"
   ]
  },
  {
   "cell_type": "code",
   "execution_count": 37,
   "metadata": {},
   "outputs": [],
   "source": [
    "clients['work_experience_years'] = clients['work_experience_years'].astype('int')"
   ]
  },
  {
   "cell_type": "code",
   "execution_count": 38,
   "metadata": {},
   "outputs": [],
   "source": [
    "clients['month_income'] = clients['month_income'].astype('int')"
   ]
  },
  {
   "cell_type": "markdown",
   "metadata": {},
   "source": [
    "Дополнительно переведем строковые значения в числовые для столбца debt_status "
   ]
  },
  {
   "cell_type": "code",
   "execution_count": 39,
   "metadata": {},
   "outputs": [],
   "source": [
    "clients['debt_status'] = pd.to_numeric(clients['debt_status'])"
   ]
  },
  {
   "cell_type": "markdown",
   "metadata": {},
   "source": [
    "Методом info() убедимся, что для всех столбцов с числами теперь указан тип int64"
   ]
  },
  {
   "cell_type": "code",
   "execution_count": 40,
   "metadata": {},
   "outputs": [
    {
     "name": "stdout",
     "output_type": "stream",
     "text": [
      "<class 'pandas.core.frame.DataFrame'>\n",
      "RangeIndex: 21525 entries, 0 to 21524\n",
      "Data columns (total 12 columns):\n",
      " #   Column                 Non-Null Count  Dtype \n",
      "---  ------                 --------------  ----- \n",
      " 0   children_number        21525 non-null  int64 \n",
      " 1   client_age             21525 non-null  int64 \n",
      " 2   education_level        21525 non-null  object\n",
      " 3   education_level_id     21525 non-null  int64 \n",
      " 4   family_status          21525 non-null  object\n",
      " 5   family_status_id       21525 non-null  int64 \n",
      " 6   gender                 21525 non-null  object\n",
      " 7   employment_type        21525 non-null  object\n",
      " 8   debt_status            21525 non-null  int64 \n",
      " 9   month_income           21525 non-null  int64 \n",
      " 10  credit_purpose         21525 non-null  object\n",
      " 11  work_experience_years  21525 non-null  int64 \n",
      "dtypes: int64(7), object(5)\n",
      "memory usage: 2.0+ MB\n"
     ]
    }
   ],
   "source": [
    "clients.info()"
   ]
  },
  {
   "cell_type": "markdown",
   "metadata": {},
   "source": [
    "**Вывод**"
   ]
  },
  {
   "cell_type": "markdown",
   "metadata": {},
   "source": [
    "Теперь наша таблица содержит целые числа, с которыми будет удобнее работать. На качество данных в нашем случае такое преобразование не повлияло"
   ]
  },
  {
   "cell_type": "markdown",
   "metadata": {},
   "source": [
    "### Обработка дубликатов"
   ]
  },
  {
   "cell_type": "markdown",
   "metadata": {},
   "source": [
    "Найдем  полные дубликаты методом duplicated() и посчитаем их количество"
   ]
  },
  {
   "cell_type": "code",
   "execution_count": 41,
   "metadata": {},
   "outputs": [
    {
     "data": {
      "text/plain": [
       "55"
      ]
     },
     "execution_count": 41,
     "metadata": {},
     "output_type": "execute_result"
    }
   ],
   "source": [
    "clients.duplicated().sum()"
   ]
  },
  {
   "cell_type": "markdown",
   "metadata": {},
   "source": [
    "Осуществим ручной поиск дубликатов по столбцам с типом object. Для этого используем метод value_counts, который сделает подсчеты по уникальным значениям. Начнем с уровня образования"
   ]
  },
  {
   "cell_type": "code",
   "execution_count": 42,
   "metadata": {},
   "outputs": [
    {
     "data": {
      "text/plain": [
       "среднее                13750\n",
       "высшее                  4718\n",
       "СРЕДНЕЕ                  772\n",
       "Среднее                  711\n",
       "неоконченное высшее      668\n",
       "ВЫСШЕЕ                   274\n",
       "Высшее                   268\n",
       "начальное                250\n",
       "Неоконченное высшее       47\n",
       "НЕОКОНЧЕННОЕ ВЫСШЕЕ       29\n",
       "НАЧАЛЬНОЕ                 17\n",
       "Начальное                 15\n",
       "ученая степень             4\n",
       "Ученая степень             1\n",
       "УЧЕНАЯ СТЕПЕНЬ             1\n",
       "Name: education_level, dtype: int64"
      ]
     },
     "execution_count": 42,
     "metadata": {},
     "output_type": "execute_result"
    }
   ],
   "source": [
    "clients['education_level'].value_counts()"
   ]
  },
  {
   "cell_type": "markdown",
   "metadata": {},
   "source": [
    "Для столбца с уровнем образования присутствуют дубликаты из-за разницы в регистре. Приведем все к нижнему регистру с помощью метода lower() и посмотрим, что получилось"
   ]
  },
  {
   "cell_type": "code",
   "execution_count": 43,
   "metadata": {},
   "outputs": [],
   "source": [
    "clients['education_level'] = clients['education_level'].str.lower()"
   ]
  },
  {
   "cell_type": "code",
   "execution_count": 44,
   "metadata": {},
   "outputs": [
    {
     "data": {
      "text/plain": [
       "среднее                15233\n",
       "высшее                  5260\n",
       "неоконченное высшее      744\n",
       "начальное                282\n",
       "ученая степень             6\n",
       "Name: education_level, dtype: int64"
      ]
     },
     "execution_count": 44,
     "metadata": {},
     "output_type": "execute_result"
    }
   ],
   "source": [
    "clients['education_level'].value_counts()"
   ]
  },
  {
   "cell_type": "markdown",
   "metadata": {},
   "source": [
    "Осуществим ручной поиск дубликатов для семейного положения"
   ]
  },
  {
   "cell_type": "code",
   "execution_count": 45,
   "metadata": {},
   "outputs": [
    {
     "data": {
      "text/plain": [
       "женат / замужем          12380\n",
       "гражданский брак          4177\n",
       "Не женат / не замужем     2813\n",
       "в разводе                 1195\n",
       "вдовец / вдова             960\n",
       "Name: family_status, dtype: int64"
      ]
     },
     "execution_count": 45,
     "metadata": {},
     "output_type": "execute_result"
    }
   ],
   "source": [
    "clients['family_status'].value_counts()"
   ]
  },
  {
   "cell_type": "markdown",
   "metadata": {},
   "source": [
    "Дубликатов нет, но изменим регистр для \"Не женат / не замужем\""
   ]
  },
  {
   "cell_type": "code",
   "execution_count": 46,
   "metadata": {},
   "outputs": [],
   "source": [
    "clients.loc[clients['family_status'] =='Не женат / не замужем', 'family_status'] = clients.loc[clients[\n",
    "    'family_status'] =='Не женат / не замужем', 'family_status'].str.lower()"
   ]
  },
  {
   "cell_type": "code",
   "execution_count": 47,
   "metadata": {},
   "outputs": [
    {
     "data": {
      "text/plain": [
       "женат / замужем          12380\n",
       "гражданский брак          4177\n",
       "не женат / не замужем     2813\n",
       "в разводе                 1195\n",
       "вдовец / вдова             960\n",
       "Name: family_status, dtype: int64"
      ]
     },
     "execution_count": 47,
     "metadata": {},
     "output_type": "execute_result"
    }
   ],
   "source": [
    "clients['family_status'].value_counts()"
   ]
  },
  {
   "cell_type": "markdown",
   "metadata": {},
   "source": [
    "На шаге с пропусками мы группировали тип занятости и не увидели аномалий, но проверим еще раз методом подсчета уникальных значений"
   ]
  },
  {
   "cell_type": "code",
   "execution_count": 48,
   "metadata": {},
   "outputs": [
    {
     "data": {
      "text/plain": [
       "сотрудник          11119\n",
       "компаньон           5085\n",
       "пенсионер           3856\n",
       "госслужащий         1459\n",
       "безработный            2\n",
       "предприниматель        2\n",
       "студент                1\n",
       "в декрете              1\n",
       "Name: employment_type, dtype: int64"
      ]
     },
     "execution_count": 48,
     "metadata": {},
     "output_type": "execute_result"
    }
   ],
   "source": [
    "clients['employment_type'].value_counts()"
   ]
  },
  {
   "cell_type": "markdown",
   "metadata": {},
   "source": [
    "И посмотрим на цель кредита - проблем с регистром не наблюдается. Много одинаковых по смыслу значений, но пока не будем считать их дубликатами.\n",
    "Также есть одна цель - \"ремонт жилью\", которую на всякий случай лучше сразу переименуем на - \"ремонт жилья\""
   ]
  },
  {
   "cell_type": "code",
   "execution_count": 49,
   "metadata": {},
   "outputs": [
    {
     "data": {
      "text/plain": [
       "свадьба                                   797\n",
       "на проведение свадьбы                     777\n",
       "сыграть свадьбу                           774\n",
       "операции с недвижимостью                  676\n",
       "покупка коммерческой недвижимости         664\n",
       "покупка жилья для сдачи                   653\n",
       "операции с жильем                         653\n",
       "операции с коммерческой недвижимостью     651\n",
       "покупка жилья                             647\n",
       "жилье                                     647\n",
       "покупка жилья для семьи                   641\n",
       "строительство собственной недвижимости    635\n",
       "недвижимость                              634\n",
       "операции со своей недвижимостью           630\n",
       "строительство жилой недвижимости          626\n",
       "покупка недвижимости                      624\n",
       "строительство недвижимости                620\n",
       "покупка своего жилья                      620\n",
       "ремонт жилью                              612\n",
       "покупка жилой недвижимости                607\n",
       "на покупку своего автомобиля              505\n",
       "заняться высшим образованием              496\n",
       "автомобиль                                495\n",
       "сделка с подержанным автомобилем          489\n",
       "свой автомобиль                           480\n",
       "на покупку подержанного автомобиля        479\n",
       "автомобили                                478\n",
       "на покупку автомобиля                     472\n",
       "дополнительное образование                462\n",
       "приобретение автомобиля                   462\n",
       "сделка с автомобилем                      455\n",
       "высшее образование                        453\n",
       "образование                               447\n",
       "получение дополнительного образования     447\n",
       "получение образования                     443\n",
       "профильное образование                    436\n",
       "получение высшего образования             426\n",
       "заняться образованием                     412\n",
       "Name: credit_purpose, dtype: int64"
      ]
     },
     "execution_count": 49,
     "metadata": {},
     "output_type": "execute_result"
    }
   ],
   "source": [
    "clients['credit_purpose'].value_counts()"
   ]
  },
  {
   "cell_type": "markdown",
   "metadata": {},
   "source": [
    "\"ремонт жилью\" переименовываем с помощью метода replace()"
   ]
  },
  {
   "cell_type": "code",
   "execution_count": 50,
   "metadata": {},
   "outputs": [],
   "source": [
    "clients['credit_purpose'] = clients['credit_purpose'].replace('ремонт жилью','ремонт жилья')"
   ]
  },
  {
   "cell_type": "code",
   "execution_count": 51,
   "metadata": {},
   "outputs": [
    {
     "data": {
      "text/plain": [
       "свадьба                                   797\n",
       "на проведение свадьбы                     777\n",
       "сыграть свадьбу                           774\n",
       "операции с недвижимостью                  676\n",
       "покупка коммерческой недвижимости         664\n",
       "покупка жилья для сдачи                   653\n",
       "операции с жильем                         653\n",
       "операции с коммерческой недвижимостью     651\n",
       "покупка жилья                             647\n",
       "жилье                                     647\n",
       "покупка жилья для семьи                   641\n",
       "строительство собственной недвижимости    635\n",
       "недвижимость                              634\n",
       "операции со своей недвижимостью           630\n",
       "строительство жилой недвижимости          626\n",
       "покупка недвижимости                      624\n",
       "строительство недвижимости                620\n",
       "покупка своего жилья                      620\n",
       "ремонт жилья                              612\n",
       "покупка жилой недвижимости                607\n",
       "на покупку своего автомобиля              505\n",
       "заняться высшим образованием              496\n",
       "автомобиль                                495\n",
       "сделка с подержанным автомобилем          489\n",
       "свой автомобиль                           480\n",
       "на покупку подержанного автомобиля        479\n",
       "автомобили                                478\n",
       "на покупку автомобиля                     472\n",
       "дополнительное образование                462\n",
       "приобретение автомобиля                   462\n",
       "сделка с автомобилем                      455\n",
       "высшее образование                        453\n",
       "образование                               447\n",
       "получение дополнительного образования     447\n",
       "получение образования                     443\n",
       "профильное образование                    436\n",
       "получение высшего образования             426\n",
       "заняться образованием                     412\n",
       "Name: credit_purpose, dtype: int64"
      ]
     },
     "execution_count": 51,
     "metadata": {},
     "output_type": "execute_result"
    }
   ],
   "source": [
    "clients['credit_purpose'].value_counts()"
   ]
  },
  {
   "cell_type": "markdown",
   "metadata": {},
   "source": [
    "После приведения в порядок регистров посмотрим на количество полных дубликатов - было 54, стало 71"
   ]
  },
  {
   "cell_type": "code",
   "execution_count": 52,
   "metadata": {},
   "outputs": [
    {
     "data": {
      "text/plain": [
       "72"
      ]
     },
     "execution_count": 52,
     "metadata": {},
     "output_type": "execute_result"
    }
   ],
   "source": [
    "clients.duplicated().sum()"
   ]
  },
  {
   "cell_type": "markdown",
   "metadata": {},
   "source": [
    "Удалим полные дубликаты методом drop_duplicates() и создадим столбцы с новыми индексами. Проверим, что ничего не осталось"
   ]
  },
  {
   "cell_type": "code",
   "execution_count": 53,
   "metadata": {},
   "outputs": [],
   "source": [
    "clients = clients.drop_duplicates().reset_index(drop=True)"
   ]
  },
  {
   "cell_type": "code",
   "execution_count": 54,
   "metadata": {},
   "outputs": [
    {
     "data": {
      "text/plain": [
       "0"
      ]
     },
     "execution_count": 54,
     "metadata": {},
     "output_type": "execute_result"
    }
   ],
   "source": [
    "clients.duplicated().sum()"
   ]
  },
  {
   "cell_type": "markdown",
   "metadata": {},
   "source": [
    "В завершение обработки дубликатов захотелось проверить количество полных дубликатов без учета столбца с целью. Результат наводит на мысль, что избавиться от всех дубликатов окончательно не получилось. Можно было, например, переименовать такие цели, как \"проведение свадьбы\", \"сыграть свадьбу\" на \"свадьба\" и после этого выявить новые полные дубликаты. \n",
    "Но перечень целей большой (и в целом в работе могут попадаться похожие Series c еще большими уникальными значениями), визуально все сложно сопоставить и привести к одному названию цели, поэтому принято решение сохранить первоначальные значения для лемматизации."
   ]
  },
  {
   "cell_type": "code",
   "execution_count": 55,
   "metadata": {},
   "outputs": [
    {
     "data": {
      "text/plain": [
       "679"
      ]
     },
     "execution_count": 55,
     "metadata": {},
     "output_type": "execute_result"
    }
   ],
   "source": [
    "clients.loc[:, 'children_number': 'month_income'].duplicated().sum()"
   ]
  },
  {
   "cell_type": "markdown",
   "metadata": {},
   "source": [
    "**Вывод**"
   ]
  },
  {
   "cell_type": "markdown",
   "metadata": {},
   "source": [
    "В таблице присутствовали полные дубликаты, а также записи с разными регистрами. Стандартного поиска полных дубликатов методом duplicated() недостаточно, поэтому дополнительно мы использовали ручной поиск по столбцам.  \n",
    "Предположительно дубликаты возникают из-за того, что клиенты формируют несколько заявок на получение кредита. Это может происходить намеренно, а также при сбое во время сохранения данных и отправки формы.\n",
    "Кроме того исходная таблица могла быть получена путем сбора данных из разных источников, которые содержали данные одного и того же клиента"
   ]
  },
  {
   "cell_type": "markdown",
   "metadata": {},
   "source": [
    "### Лемматизация"
   ]
  },
  {
   "cell_type": "markdown",
   "metadata": {},
   "source": [
    "Цели кредита содержат слова в разной форме. Для последующей категоризации приведем слова к словарной форме с помощью лемматизации. \n",
    "Напишем функцию, принимающую строку и возвращающую список лемматизированных слов. \n",
    "Для лемматизации слов используем m.lemmatize().\n",
    "Т.к. m.lemmatize() возвращает список слов, то дополнительно применим метод join, чтобы превратить список в строку. "
   ]
  },
  {
   "cell_type": "code",
   "execution_count": 56,
   "metadata": {},
   "outputs": [],
   "source": [
    "m = Mystem()\n",
    "\n",
    "def purpose_lemma(row):\n",
    "    purpose = row['credit_purpose']\n",
    "    lemmas = ''.join(m.lemmatize(purpose))\n",
    "    return lemmas\n"
   ]
  },
  {
   "cell_type": "markdown",
   "metadata": {},
   "source": [
    "Проверим работу функции. Создадим строку с двумя столбцами и убедимся, что функция лемматизирует слова из нужного столбца. "
   ]
  },
  {
   "cell_type": "code",
   "execution_count": 57,
   "metadata": {},
   "outputs": [
    {
     "name": "stdout",
     "output_type": "stream",
     "text": [
      "строительство собственный недвижимость\n",
      "\n"
     ]
    }
   ],
   "source": [
    "row_values = ['высшее','строительство собственной недвижимости']  \n",
    "row_columns = ['education','credit_purpose'] \n",
    "\n",
    "row = pd.Series(data=row_values, index=row_columns) \n",
    "print(purpose_lemma(row))"
   ]
  },
  {
   "cell_type": "markdown",
   "metadata": {},
   "source": [
    "Функция работает корректно. Добавим в таблицу clients новый столбец, в котором будут содержаться леммы для целей кредита каждого клиента. Чтобы на вход в функцию передавались строки, а не столбцы укажем параметр axis=1"
   ]
  },
  {
   "cell_type": "code",
   "execution_count": 58,
   "metadata": {},
   "outputs": [],
   "source": [
    "clients['purpose_lemma'] = clients.apply(purpose_lemma, axis = 1)"
   ]
  },
  {
   "cell_type": "markdown",
   "metadata": {},
   "source": [
    "Выведем первые пять строк таблицы и убедимся, что данные в новом столбце записаны"
   ]
  },
  {
   "cell_type": "code",
   "execution_count": 59,
   "metadata": {},
   "outputs": [
    {
     "data": {
      "text/html": [
       "<div>\n",
       "<style scoped>\n",
       "    .dataframe tbody tr th:only-of-type {\n",
       "        vertical-align: middle;\n",
       "    }\n",
       "\n",
       "    .dataframe tbody tr th {\n",
       "        vertical-align: top;\n",
       "    }\n",
       "\n",
       "    .dataframe thead th {\n",
       "        text-align: right;\n",
       "    }\n",
       "</style>\n",
       "<table border=\"1\" class=\"dataframe\">\n",
       "  <thead>\n",
       "    <tr style=\"text-align: right;\">\n",
       "      <th></th>\n",
       "      <th>children_number</th>\n",
       "      <th>client_age</th>\n",
       "      <th>education_level</th>\n",
       "      <th>education_level_id</th>\n",
       "      <th>family_status</th>\n",
       "      <th>family_status_id</th>\n",
       "      <th>gender</th>\n",
       "      <th>employment_type</th>\n",
       "      <th>debt_status</th>\n",
       "      <th>month_income</th>\n",
       "      <th>credit_purpose</th>\n",
       "      <th>work_experience_years</th>\n",
       "      <th>purpose_lemma</th>\n",
       "    </tr>\n",
       "  </thead>\n",
       "  <tbody>\n",
       "    <tr>\n",
       "      <th>0</th>\n",
       "      <td>1</td>\n",
       "      <td>42</td>\n",
       "      <td>высшее</td>\n",
       "      <td>0</td>\n",
       "      <td>женат / замужем</td>\n",
       "      <td>0</td>\n",
       "      <td>F</td>\n",
       "      <td>сотрудник</td>\n",
       "      <td>0</td>\n",
       "      <td>253875</td>\n",
       "      <td>покупка жилья</td>\n",
       "      <td>23</td>\n",
       "      <td>покупка жилье\\n</td>\n",
       "    </tr>\n",
       "    <tr>\n",
       "      <th>1</th>\n",
       "      <td>1</td>\n",
       "      <td>36</td>\n",
       "      <td>среднее</td>\n",
       "      <td>1</td>\n",
       "      <td>женат / замужем</td>\n",
       "      <td>0</td>\n",
       "      <td>F</td>\n",
       "      <td>сотрудник</td>\n",
       "      <td>0</td>\n",
       "      <td>112080</td>\n",
       "      <td>приобретение автомобиля</td>\n",
       "      <td>11</td>\n",
       "      <td>приобретение автомобиль\\n</td>\n",
       "    </tr>\n",
       "    <tr>\n",
       "      <th>2</th>\n",
       "      <td>0</td>\n",
       "      <td>33</td>\n",
       "      <td>среднее</td>\n",
       "      <td>1</td>\n",
       "      <td>женат / замужем</td>\n",
       "      <td>0</td>\n",
       "      <td>M</td>\n",
       "      <td>сотрудник</td>\n",
       "      <td>0</td>\n",
       "      <td>145885</td>\n",
       "      <td>покупка жилья</td>\n",
       "      <td>15</td>\n",
       "      <td>покупка жилье\\n</td>\n",
       "    </tr>\n",
       "    <tr>\n",
       "      <th>3</th>\n",
       "      <td>3</td>\n",
       "      <td>32</td>\n",
       "      <td>среднее</td>\n",
       "      <td>1</td>\n",
       "      <td>женат / замужем</td>\n",
       "      <td>0</td>\n",
       "      <td>M</td>\n",
       "      <td>сотрудник</td>\n",
       "      <td>0</td>\n",
       "      <td>267628</td>\n",
       "      <td>дополнительное образование</td>\n",
       "      <td>11</td>\n",
       "      <td>дополнительный образование\\n</td>\n",
       "    </tr>\n",
       "    <tr>\n",
       "      <th>4</th>\n",
       "      <td>0</td>\n",
       "      <td>53</td>\n",
       "      <td>среднее</td>\n",
       "      <td>1</td>\n",
       "      <td>гражданский брак</td>\n",
       "      <td>1</td>\n",
       "      <td>F</td>\n",
       "      <td>пенсионер</td>\n",
       "      <td>0</td>\n",
       "      <td>158616</td>\n",
       "      <td>сыграть свадьбу</td>\n",
       "      <td>38</td>\n",
       "      <td>сыграть свадьба\\n</td>\n",
       "    </tr>\n",
       "  </tbody>\n",
       "</table>\n",
       "</div>"
      ],
      "text/plain": [
       "   children_number  client_age education_level  education_level_id  \\\n",
       "0                1          42          высшее                   0   \n",
       "1                1          36         среднее                   1   \n",
       "2                0          33         среднее                   1   \n",
       "3                3          32         среднее                   1   \n",
       "4                0          53         среднее                   1   \n",
       "\n",
       "      family_status  family_status_id gender employment_type  debt_status  \\\n",
       "0   женат / замужем                 0      F       сотрудник            0   \n",
       "1   женат / замужем                 0      F       сотрудник            0   \n",
       "2   женат / замужем                 0      M       сотрудник            0   \n",
       "3   женат / замужем                 0      M       сотрудник            0   \n",
       "4  гражданский брак                 1      F       пенсионер            0   \n",
       "\n",
       "   month_income              credit_purpose  work_experience_years  \\\n",
       "0        253875               покупка жилья                     23   \n",
       "1        112080     приобретение автомобиля                     11   \n",
       "2        145885               покупка жилья                     15   \n",
       "3        267628  дополнительное образование                     11   \n",
       "4        158616             сыграть свадьбу                     38   \n",
       "\n",
       "                  purpose_lemma  \n",
       "0               покупка жилье\\n  \n",
       "1     приобретение автомобиль\\n  \n",
       "2               покупка жилье\\n  \n",
       "3  дополнительный образование\\n  \n",
       "4             сыграть свадьба\\n  "
      ]
     },
     "execution_count": 59,
     "metadata": {},
     "output_type": "execute_result"
    }
   ],
   "source": [
    "clients.head()"
   ]
  },
  {
   "cell_type": "markdown",
   "metadata": {},
   "source": [
    "Посчитаем количество уникальных значений по столбцу с леммами для целей кредита.\n",
    "Как видим, уже выделяются более точные категории, ключевые слова (такие существительные, как \"автомобиль\", \"свадьба\", \"жилье\" и т.д.) представлены в именительном падеже единственного числа. "
   ]
  },
  {
   "cell_type": "code",
   "execution_count": 60,
   "metadata": {},
   "outputs": [
    {
     "data": {
      "text/plain": [
       "автомобиль\\n                                972\n",
       "свадьба\\n                                   791\n",
       "на проведение свадьба\\n                     767\n",
       "сыграть свадьба\\n                           765\n",
       "операция с недвижимость\\n                   675\n",
       "покупка коммерческий недвижимость\\n         661\n",
       "операция с жилье\\n                          652\n",
       "покупка жилье для сдача\\n                   651\n",
       "операция с коммерческий недвижимость\\n      650\n",
       "покупка жилье\\n                             646\n",
       "жилье\\n                                     646\n",
       "покупка жилье для семья\\n                   638\n",
       "строительство собственный недвижимость\\n    635\n",
       "недвижимость\\n                              633\n",
       "операция со свой недвижимость\\n             627\n",
       "строительство жилой недвижимость\\n          624\n",
       "покупка недвижимость\\n                      621\n",
       "покупка свой жилье\\n                        620\n",
       "строительство недвижимость\\n                619\n",
       "ремонт жилье\\n                              607\n",
       "покупка жилой недвижимость\\n                606\n",
       "на покупка свой автомобиль\\n                505\n",
       "заниматься высокий образование\\n            496\n",
       "сделка с подержанный автомобиль\\n           486\n",
       "на покупка подержать автомобиль\\n           478\n",
       "свой автомобиль\\n                           478\n",
       "на покупка автомобиль\\n                     471\n",
       "приобретение автомобиль\\n                   461\n",
       "дополнительный образование\\n                460\n",
       "сделка с автомобиль\\n                       455\n",
       "высокий образование\\n                       452\n",
       "образование\\n                               447\n",
       "получение дополнительный образование\\n      446\n",
       "получение образование\\n                     442\n",
       "профильный образование\\n                    436\n",
       "получение высокий образование\\n             426\n",
       "заниматься образование\\n                    408\n",
       "Name: purpose_lemma, dtype: int64"
      ]
     },
     "execution_count": 60,
     "metadata": {},
     "output_type": "execute_result"
    }
   ],
   "source": [
    "clients['purpose_lemma'].value_counts()"
   ]
  },
  {
   "cell_type": "markdown",
   "metadata": {},
   "source": [
    "**Вывод**"
   ]
  },
  {
   "cell_type": "markdown",
   "metadata": {},
   "source": [
    "Пока верхнюю строчку среди целей занимает автомобиль. На следующих шагах, когда мы будем категоризировать цели кредита, станет понятно действительно ли автомобиль самая популярная цель кредита.\n",
    "\n",
    "В первоначальном виде цели кредита были представлены в произвольном виде - \"как написал клиент\" (или менеджер, который принимал заявку).\n",
    "На основании таких данных сложно сгруппировать записи по целям и сделать выводы о наиболее популярных, а также соотнести их с возвратом кредита в срок.\n",
    "После применения лемматизации удалось получить более точный список целей, на основании которого можно провести категоризацию данных.\n",
    "Коллегам из бизнеса можно дать рекомендацию на подготовку требований в части того, чтобы в форме заявки на кредит поле с целью содержало выпадающий список с целями, при отсутствии нужной цели можно, например, выбрать \"другое\". В дальнейшем это позволит сразу получать данные по нужным категориям. "
   ]
  },
  {
   "cell_type": "markdown",
   "metadata": {},
   "source": [
    "### Категоризация данных"
   ]
  },
  {
   "cell_type": "markdown",
   "metadata": {},
   "source": [
    "Для ответа на поставленные вопросы нам потребуется категоризация данных по количеству детей клиента, семейному положению, ежемесячному доходу и цели кредита. "
   ]
  },
  {
   "cell_type": "markdown",
   "metadata": {},
   "source": [
    "#### Категоризация по количеству детей"
   ]
  },
  {
   "cell_type": "markdown",
   "metadata": {},
   "source": [
    "Начнем с категоризации по количеству детей. \n",
    "Выведем количество уникальных значений, это диапазон от 0 до 5. "
   ]
  },
  {
   "cell_type": "code",
   "execution_count": 61,
   "metadata": {},
   "outputs": [
    {
     "data": {
      "text/plain": [
       "0    14090\n",
       "1     4855\n",
       "2     2128\n",
       "3      330\n",
       "4       41\n",
       "5        9\n",
       "Name: children_number, dtype: int64"
      ]
     },
     "execution_count": 61,
     "metadata": {},
     "output_type": "execute_result"
    }
   ],
   "source": [
    "clients['children_number'].value_counts()"
   ]
  },
  {
   "cell_type": "markdown",
   "metadata": {},
   "source": [
    "Определим категории по количеству детей клиентов\n",
    "\n",
    "Установим следующие значения:\n",
    "\n",
    "* 0 - нет детей \n",
    "* 1-2 - есть дети\n",
    "* 3-10 - многодетные "
   ]
  },
  {
   "cell_type": "markdown",
   "metadata": {},
   "source": [
    "Напишем функцию, которая принимает количество детей и возвращает соответствующую группу. Для обработки ошибок применим конструкцию try-except"
   ]
  },
  {
   "cell_type": "code",
   "execution_count": 62,
   "metadata": {},
   "outputs": [],
   "source": [
    "def children_group(number):\n",
    "    try:\n",
    "        if number == 0:\n",
    "            return 'нет детей'\n",
    "        if 1 <= number <= 2:\n",
    "            return 'есть дети'\n",
    "        if 3 <= number <= 10:\n",
    "            return 'многодетные'\n",
    "        return 'нет категории'\n",
    "    except:\n",
    "        return 'неправильный формат'"
   ]
  },
  {
   "cell_type": "markdown",
   "metadata": {},
   "source": [
    "Убедимся в корреткной работе функции"
   ]
  },
  {
   "cell_type": "code",
   "execution_count": 63,
   "metadata": {},
   "outputs": [
    {
     "data": {
      "text/plain": [
       "'нет детей'"
      ]
     },
     "execution_count": 63,
     "metadata": {},
     "output_type": "execute_result"
    }
   ],
   "source": [
    "children_group(0)"
   ]
  },
  {
   "cell_type": "code",
   "execution_count": 64,
   "metadata": {},
   "outputs": [
    {
     "data": {
      "text/plain": [
       "'есть дети'"
      ]
     },
     "execution_count": 64,
     "metadata": {},
     "output_type": "execute_result"
    }
   ],
   "source": [
    "children_group(1)"
   ]
  },
  {
   "cell_type": "code",
   "execution_count": 65,
   "metadata": {},
   "outputs": [
    {
     "data": {
      "text/plain": [
       "'есть дети'"
      ]
     },
     "execution_count": 65,
     "metadata": {},
     "output_type": "execute_result"
    }
   ],
   "source": [
    "children_group(2)"
   ]
  },
  {
   "cell_type": "code",
   "execution_count": 66,
   "metadata": {},
   "outputs": [
    {
     "data": {
      "text/plain": [
       "'многодетные'"
      ]
     },
     "execution_count": 66,
     "metadata": {},
     "output_type": "execute_result"
    }
   ],
   "source": [
    "children_group(3)"
   ]
  },
  {
   "cell_type": "code",
   "execution_count": 67,
   "metadata": {},
   "outputs": [
    {
     "data": {
      "text/plain": [
       "'многодетные'"
      ]
     },
     "execution_count": 67,
     "metadata": {},
     "output_type": "execute_result"
    }
   ],
   "source": [
    "children_group(4)"
   ]
  },
  {
   "cell_type": "code",
   "execution_count": 68,
   "metadata": {},
   "outputs": [
    {
     "data": {
      "text/plain": [
       "'многодетные'"
      ]
     },
     "execution_count": 68,
     "metadata": {},
     "output_type": "execute_result"
    }
   ],
   "source": [
    "children_group(10)"
   ]
  },
  {
   "cell_type": "code",
   "execution_count": 69,
   "metadata": {},
   "outputs": [
    {
     "data": {
      "text/plain": [
       "'нет категории'"
      ]
     },
     "execution_count": 69,
     "metadata": {},
     "output_type": "execute_result"
    }
   ],
   "source": [
    "children_group(11)"
   ]
  },
  {
   "cell_type": "code",
   "execution_count": 70,
   "metadata": {},
   "outputs": [
    {
     "data": {
      "text/plain": [
       "'нет категории'"
      ]
     },
     "execution_count": 70,
     "metadata": {},
     "output_type": "execute_result"
    }
   ],
   "source": [
    "children_group(-11)"
   ]
  },
  {
   "cell_type": "code",
   "execution_count": 71,
   "metadata": {},
   "outputs": [
    {
     "data": {
      "text/plain": [
       "'неправильный формат'"
      ]
     },
     "execution_count": 71,
     "metadata": {},
     "output_type": "execute_result"
    }
   ],
   "source": [
    "children_group('11')"
   ]
  },
  {
   "cell_type": "markdown",
   "metadata": {},
   "source": [
    "Применим нашу функцию к столбцу с количеством детей клиентов. Для записи категорий добавим новый столбец \"children_group\" и выведем таблицу на экран"
   ]
  },
  {
   "cell_type": "code",
   "execution_count": 72,
   "metadata": {},
   "outputs": [
    {
     "data": {
      "text/html": [
       "<div>\n",
       "<style scoped>\n",
       "    .dataframe tbody tr th:only-of-type {\n",
       "        vertical-align: middle;\n",
       "    }\n",
       "\n",
       "    .dataframe tbody tr th {\n",
       "        vertical-align: top;\n",
       "    }\n",
       "\n",
       "    .dataframe thead th {\n",
       "        text-align: right;\n",
       "    }\n",
       "</style>\n",
       "<table border=\"1\" class=\"dataframe\">\n",
       "  <thead>\n",
       "    <tr style=\"text-align: right;\">\n",
       "      <th></th>\n",
       "      <th>children_number</th>\n",
       "      <th>client_age</th>\n",
       "      <th>education_level</th>\n",
       "      <th>education_level_id</th>\n",
       "      <th>family_status</th>\n",
       "      <th>family_status_id</th>\n",
       "      <th>gender</th>\n",
       "      <th>employment_type</th>\n",
       "      <th>debt_status</th>\n",
       "      <th>month_income</th>\n",
       "      <th>credit_purpose</th>\n",
       "      <th>work_experience_years</th>\n",
       "      <th>purpose_lemma</th>\n",
       "      <th>children_group</th>\n",
       "    </tr>\n",
       "  </thead>\n",
       "  <tbody>\n",
       "    <tr>\n",
       "      <th>0</th>\n",
       "      <td>1</td>\n",
       "      <td>42</td>\n",
       "      <td>высшее</td>\n",
       "      <td>0</td>\n",
       "      <td>женат / замужем</td>\n",
       "      <td>0</td>\n",
       "      <td>F</td>\n",
       "      <td>сотрудник</td>\n",
       "      <td>0</td>\n",
       "      <td>253875</td>\n",
       "      <td>покупка жилья</td>\n",
       "      <td>23</td>\n",
       "      <td>покупка жилье\\n</td>\n",
       "      <td>есть дети</td>\n",
       "    </tr>\n",
       "    <tr>\n",
       "      <th>1</th>\n",
       "      <td>1</td>\n",
       "      <td>36</td>\n",
       "      <td>среднее</td>\n",
       "      <td>1</td>\n",
       "      <td>женат / замужем</td>\n",
       "      <td>0</td>\n",
       "      <td>F</td>\n",
       "      <td>сотрудник</td>\n",
       "      <td>0</td>\n",
       "      <td>112080</td>\n",
       "      <td>приобретение автомобиля</td>\n",
       "      <td>11</td>\n",
       "      <td>приобретение автомобиль\\n</td>\n",
       "      <td>есть дети</td>\n",
       "    </tr>\n",
       "    <tr>\n",
       "      <th>2</th>\n",
       "      <td>0</td>\n",
       "      <td>33</td>\n",
       "      <td>среднее</td>\n",
       "      <td>1</td>\n",
       "      <td>женат / замужем</td>\n",
       "      <td>0</td>\n",
       "      <td>M</td>\n",
       "      <td>сотрудник</td>\n",
       "      <td>0</td>\n",
       "      <td>145885</td>\n",
       "      <td>покупка жилья</td>\n",
       "      <td>15</td>\n",
       "      <td>покупка жилье\\n</td>\n",
       "      <td>нет детей</td>\n",
       "    </tr>\n",
       "    <tr>\n",
       "      <th>3</th>\n",
       "      <td>3</td>\n",
       "      <td>32</td>\n",
       "      <td>среднее</td>\n",
       "      <td>1</td>\n",
       "      <td>женат / замужем</td>\n",
       "      <td>0</td>\n",
       "      <td>M</td>\n",
       "      <td>сотрудник</td>\n",
       "      <td>0</td>\n",
       "      <td>267628</td>\n",
       "      <td>дополнительное образование</td>\n",
       "      <td>11</td>\n",
       "      <td>дополнительный образование\\n</td>\n",
       "      <td>многодетные</td>\n",
       "    </tr>\n",
       "    <tr>\n",
       "      <th>4</th>\n",
       "      <td>0</td>\n",
       "      <td>53</td>\n",
       "      <td>среднее</td>\n",
       "      <td>1</td>\n",
       "      <td>гражданский брак</td>\n",
       "      <td>1</td>\n",
       "      <td>F</td>\n",
       "      <td>пенсионер</td>\n",
       "      <td>0</td>\n",
       "      <td>158616</td>\n",
       "      <td>сыграть свадьбу</td>\n",
       "      <td>38</td>\n",
       "      <td>сыграть свадьба\\n</td>\n",
       "      <td>нет детей</td>\n",
       "    </tr>\n",
       "  </tbody>\n",
       "</table>\n",
       "</div>"
      ],
      "text/plain": [
       "   children_number  client_age education_level  education_level_id  \\\n",
       "0                1          42          высшее                   0   \n",
       "1                1          36         среднее                   1   \n",
       "2                0          33         среднее                   1   \n",
       "3                3          32         среднее                   1   \n",
       "4                0          53         среднее                   1   \n",
       "\n",
       "      family_status  family_status_id gender employment_type  debt_status  \\\n",
       "0   женат / замужем                 0      F       сотрудник            0   \n",
       "1   женат / замужем                 0      F       сотрудник            0   \n",
       "2   женат / замужем                 0      M       сотрудник            0   \n",
       "3   женат / замужем                 0      M       сотрудник            0   \n",
       "4  гражданский брак                 1      F       пенсионер            0   \n",
       "\n",
       "   month_income              credit_purpose  work_experience_years  \\\n",
       "0        253875               покупка жилья                     23   \n",
       "1        112080     приобретение автомобиля                     11   \n",
       "2        145885               покупка жилья                     15   \n",
       "3        267628  дополнительное образование                     11   \n",
       "4        158616             сыграть свадьбу                     38   \n",
       "\n",
       "                  purpose_lemma children_group  \n",
       "0               покупка жилье\\n      есть дети  \n",
       "1     приобретение автомобиль\\n      есть дети  \n",
       "2               покупка жилье\\n      нет детей  \n",
       "3  дополнительный образование\\n    многодетные  \n",
       "4             сыграть свадьба\\n      нет детей  "
      ]
     },
     "execution_count": 72,
     "metadata": {},
     "output_type": "execute_result"
    }
   ],
   "source": [
    "clients['children_group'] = clients['children_number'].apply(children_group)\n",
    "clients.head()"
   ]
  },
  {
   "cell_type": "markdown",
   "metadata": {},
   "source": [
    "Теперь взглянем на количество уникальных значений. Как видим, распределение произошло, все также есть 76 случаев, которые не попали ни в одну категорию (где количество детей 20).\n",
    "Таже наблюдаем, что при категоризации данных не возникло ошибок, иначе мы бы увидели в списке еще одно значение \"неправильный формат\", возвращаемое благодаря try-except"
   ]
  },
  {
   "cell_type": "code",
   "execution_count": 73,
   "metadata": {},
   "outputs": [
    {
     "data": {
      "text/plain": [
       "нет детей      14090\n",
       "есть дети       6983\n",
       "многодетные      380\n",
       "Name: children_group, dtype: int64"
      ]
     },
     "execution_count": 73,
     "metadata": {},
     "output_type": "execute_result"
    }
   ],
   "source": [
    "clients['children_group'].value_counts()"
   ]
  },
  {
   "cell_type": "markdown",
   "metadata": {},
   "source": [
    "**Вывод**"
   ]
  },
  {
   "cell_type": "markdown",
   "metadata": {},
   "source": [
    "Мы категоризировали данные о количестве детей на группы - нет детей, есть дети, многодетные. Многодетные выделены в отдельную группу, т.к. это позволит дополнительно сопоставить данные с наличием задолженности. \n",
    "Клиенты, у которых нет детей, чаще пользуются кредитами, но еще не получена единая картина."
   ]
  },
  {
   "cell_type": "markdown",
   "metadata": {},
   "source": [
    "#### Категоризация по семейному положению"
   ]
  },
  {
   "cell_type": "markdown",
   "metadata": {},
   "source": [
    "Посмотрим на уникальные значения в столбце с семейным положением и его идентификатором"
   ]
  },
  {
   "cell_type": "code",
   "execution_count": 74,
   "metadata": {},
   "outputs": [
    {
     "data": {
      "text/plain": [
       "family_status          family_status_id\n",
       "в разводе              3                    1195\n",
       "вдовец / вдова         2                     959\n",
       "гражданский брак       1                    4150\n",
       "женат / замужем        0                   12339\n",
       "не женат / не замужем  4                    2810\n",
       "Name: family_status_id, dtype: int64"
      ]
     },
     "execution_count": 74,
     "metadata": {},
     "output_type": "execute_result"
    }
   ],
   "source": [
    "clients.groupby('family_status')['family_status_id'].value_counts()"
   ]
  },
  {
   "cell_type": "markdown",
   "metadata": {},
   "source": [
    "**Вывод:**\n",
    "\n",
    "Категоризация по семейному положению не требуется, нас она изначально хорошая.\n",
    "\n",
    "И, например, объединяя вдоцов/кто в разводе/с гражданским браком/ и не женатых в одну группу, мы нивелируем влияние того факта, что часть клиентов была когда-то в официальных отношениях.\n",
    "\n",
    "Сохраним все группы, представленные в исходном датасете, для получения достоверных выводов."
   ]
  },
  {
   "cell_type": "markdown",
   "metadata": {},
   "source": [
    "#### Категоризация по доходам"
   ]
  },
  {
   "cell_type": "markdown",
   "metadata": {},
   "source": [
    "Посмотрим, в каком диапазоне представлен уровень ежемесячного дохода, для этого применим метод сортировки с параметром \"по убыванию\""
   ]
  },
  {
   "cell_type": "code",
   "execution_count": 75,
   "metadata": {},
   "outputs": [
    {
     "data": {
      "text/plain": [
       "12390    2265604\n",
       "19547    2200852\n",
       "9159     1726276\n",
       "20741    1715018\n",
       "17136    1711309\n",
       "          ...   \n",
       "14246      21895\n",
       "1598       21695\n",
       "16137      21367\n",
       "12983      21205\n",
       "14554      20667\n",
       "Name: month_income, Length: 21453, dtype: int64"
      ]
     },
     "execution_count": 75,
     "metadata": {},
     "output_type": "execute_result"
    }
   ],
   "source": [
    "clients['month_income'].sort_values(ascending=False)"
   ]
  },
  {
   "cell_type": "markdown",
   "metadata": {},
   "source": [
    "Определимся с категориями для ежемесячного дохода. \n",
    "Для будем использовать квартили и сделаем следующую классификацию: \n",
    "- все что до 1 квартиля (25%) — низкий доход, \n",
    "- между 1 квартилем и медианой(2 квартиль), где тоже будет 25% — средний доход, \n",
    "- от медианы до 3 квартиля (25%) — выше среднего, \n",
    "- все, что дальше 3 квартиля — высокий доход."
   ]
  },
  {
   "cell_type": "markdown",
   "metadata": {},
   "source": [
    "Категорию для ежемесячного дохода сохраним в новый признак 'month_income_category'"
   ]
  },
  {
   "cell_type": "code",
   "execution_count": 76,
   "metadata": {},
   "outputs": [],
   "source": [
    "clients['month_income_category'] = pd.qcut(clients['month_income'], 4, labels=[\n",
    "        \"низкий доход\", \"средний доход\", \"доход выше среднего\", \"высокий доход\"])"
   ]
  },
  {
   "cell_type": "markdown",
   "metadata": {},
   "source": [
    "Посмотрим, что получилось"
   ]
  },
  {
   "cell_type": "code",
   "execution_count": 77,
   "metadata": {},
   "outputs": [
    {
     "data": {
      "text/html": [
       "<div>\n",
       "<style scoped>\n",
       "    .dataframe tbody tr th:only-of-type {\n",
       "        vertical-align: middle;\n",
       "    }\n",
       "\n",
       "    .dataframe tbody tr th {\n",
       "        vertical-align: top;\n",
       "    }\n",
       "\n",
       "    .dataframe thead tr th {\n",
       "        text-align: left;\n",
       "    }\n",
       "\n",
       "    .dataframe thead tr:last-of-type th {\n",
       "        text-align: right;\n",
       "    }\n",
       "</style>\n",
       "<table border=\"1\" class=\"dataframe\">\n",
       "  <thead>\n",
       "    <tr>\n",
       "      <th></th>\n",
       "      <th>min</th>\n",
       "      <th>max</th>\n",
       "    </tr>\n",
       "    <tr>\n",
       "      <th></th>\n",
       "      <th>month_income</th>\n",
       "      <th>month_income</th>\n",
       "    </tr>\n",
       "    <tr>\n",
       "      <th>month_income_category</th>\n",
       "      <th></th>\n",
       "      <th></th>\n",
       "    </tr>\n",
       "  </thead>\n",
       "  <tbody>\n",
       "    <tr>\n",
       "      <th>низкий доход</th>\n",
       "      <td>20667</td>\n",
       "      <td>107620</td>\n",
       "    </tr>\n",
       "    <tr>\n",
       "      <th>средний доход</th>\n",
       "      <td>107632</td>\n",
       "      <td>151876</td>\n",
       "    </tr>\n",
       "    <tr>\n",
       "      <th>доход выше среднего</th>\n",
       "      <td>151898</td>\n",
       "      <td>202417</td>\n",
       "    </tr>\n",
       "    <tr>\n",
       "      <th>высокий доход</th>\n",
       "      <td>202468</td>\n",
       "      <td>2265604</td>\n",
       "    </tr>\n",
       "  </tbody>\n",
       "</table>\n",
       "</div>"
      ],
      "text/plain": [
       "                               min          max\n",
       "                      month_income month_income\n",
       "month_income_category                          \n",
       "низкий доход                 20667       107620\n",
       "средний доход               107632       151876\n",
       "доход выше среднего         151898       202417\n",
       "высокий доход               202468      2265604"
      ]
     },
     "metadata": {},
     "output_type": "display_data"
    }
   ],
   "source": [
    "display(clients.pivot_table(\n",
    "    index = 'month_income_category', values = 'month_income', aggfunc = ['min', 'max']))"
   ]
  },
  {
   "cell_type": "markdown",
   "metadata": {},
   "source": [
    "Дополнительно выведем ящик с усами boxplot для каждой категории"
   ]
  },
  {
   "cell_type": "code",
   "execution_count": 78,
   "metadata": {},
   "outputs": [
    {
     "data": {
      "image/png": "[encoded data removed]"
     },
     "metadata": {},
     "output_type": "display_data"
    }
   ],
   "source": [
    "fig = px.box(clients.query('month_income < 500000'), x = 'month_income_category', y = 'month_income')\n",
    "fig.show(\"png\")"
   ]
  },
  {
   "cell_type": "code",
   "execution_count": 79,
   "metadata": {},
   "outputs": [
    {
     "data": {
      "text/plain": [
       "доход выше среднего    5817\n",
       "низкий доход           5364\n",
       "средний доход          5363\n",
       "высокий доход          4909\n",
       "Name: month_income_category, dtype: int64"
      ]
     },
     "execution_count": 79,
     "metadata": {},
     "output_type": "execute_result"
    }
   ],
   "source": [
    "clients['month_income_category'].value_counts()"
   ]
  },
  {
   "cell_type": "markdown",
   "metadata": {},
   "source": [
    "Eсли исходить только из показателей ежемесячного дохода, то можно сделать вывод, что больше всего кредитами пользуются люди, у которых ежемесячный доход выше среднего.\n",
    "А людям с высоким доходом потребительский кредит менее интересен"
   ]
  },
  {
   "cell_type": "markdown",
   "metadata": {},
   "source": [
    "#### Категоризация по целям"
   ]
  },
  {
   "cell_type": "markdown",
   "metadata": {},
   "source": [
    "Ранее мы получили леммы для целей кредита и сохранили их в отдельном столбце. Эти данные будем использовать для категоризации. Посмотрим на значения, которые представлены"
   ]
  },
  {
   "cell_type": "code",
   "execution_count": 80,
   "metadata": {},
   "outputs": [
    {
     "data": {
      "text/plain": [
       "автомобиль\\n                                972\n",
       "свадьба\\n                                   791\n",
       "на проведение свадьба\\n                     767\n",
       "сыграть свадьба\\n                           765\n",
       "операция с недвижимость\\n                   675\n",
       "покупка коммерческий недвижимость\\n         661\n",
       "операция с жилье\\n                          652\n",
       "покупка жилье для сдача\\n                   651\n",
       "операция с коммерческий недвижимость\\n      650\n",
       "покупка жилье\\n                             646\n",
       "жилье\\n                                     646\n",
       "покупка жилье для семья\\n                   638\n",
       "строительство собственный недвижимость\\n    635\n",
       "недвижимость\\n                              633\n",
       "операция со свой недвижимость\\n             627\n",
       "строительство жилой недвижимость\\n          624\n",
       "покупка недвижимость\\n                      621\n",
       "покупка свой жилье\\n                        620\n",
       "строительство недвижимость\\n                619\n",
       "ремонт жилье\\n                              607\n",
       "покупка жилой недвижимость\\n                606\n",
       "на покупка свой автомобиль\\n                505\n",
       "заниматься высокий образование\\n            496\n",
       "сделка с подержанный автомобиль\\n           486\n",
       "на покупка подержать автомобиль\\n           478\n",
       "свой автомобиль\\n                           478\n",
       "на покупка автомобиль\\n                     471\n",
       "приобретение автомобиль\\n                   461\n",
       "дополнительный образование\\n                460\n",
       "сделка с автомобиль\\n                       455\n",
       "высокий образование\\n                       452\n",
       "образование\\n                               447\n",
       "получение дополнительный образование\\n      446\n",
       "получение образование\\n                     442\n",
       "профильный образование\\n                    436\n",
       "получение высокий образование\\n             426\n",
       "заниматься образование\\n                    408\n",
       "Name: purpose_lemma, dtype: int64"
      ]
     },
     "execution_count": 80,
     "metadata": {},
     "output_type": "execute_result"
    }
   ],
   "source": [
    "clients['purpose_lemma'].value_counts()"
   ]
  },
  {
   "cell_type": "markdown",
   "metadata": {},
   "source": [
    "На основании списка можно выделить цели на четыре категории - автомобиль, свадьба, жилье/недвижимость, образование:\n",
    "\n",
    "- автомобиль - цели, у которых встречается слово \"автомобиль\"\n",
    "- свадьба - цели, у которых встречается слово \"свадьба\"\n",
    "- образование - цели, у которых встречается слово \"образование\"\n",
    "- жилье/недвижимость - цели, у которых встречаются слова \"жилье\" или \"недвижимость\". \n",
    "    \n",
    "    \n",
    "Дополнительно интересно будет получить данные в разрезе подкатегорий жилья/недвижимости, такую обработку мы сделаем после категоризации по четырем основным категориям. \n"
   ]
  },
  {
   "cell_type": "code",
   "execution_count": 81,
   "metadata": {},
   "outputs": [],
   "source": [
    "def category_purpose(row):\n",
    "    purpose_lemma = row['purpose_lemma']\n",
    "    try:\n",
    "        for word in purpose_lemma:\n",
    "            if 'автомобиль' in purpose_lemma:\n",
    "                return 'автомобиль'\n",
    "            if 'свадьба'in purpose_lemma:\n",
    "                return 'свадьба'\n",
    "            if 'образование' in purpose_lemma:\n",
    "                return 'образование'\n",
    "            if 'жилье' in purpose_lemma:\n",
    "                return 'жилье/недвижимость'\n",
    "            if 'недвижимость' in purpose_lemma:\n",
    "                return 'жилье/недвижимость'\n",
    "            return 'другое'\n",
    "    except:\n",
    "        return 'что-то пошло не так'"
   ]
  },
  {
   "cell_type": "markdown",
   "metadata": {},
   "source": [
    "Сформируем строки для проверки функции, поочередно будем подставлять в них разные значения."
   ]
  },
  {
   "cell_type": "code",
   "execution_count": 82,
   "metadata": {},
   "outputs": [],
   "source": [
    "row_values = ['автомобильяяя покупка']  \n",
    "row_columns = ['purpose_lemma'] \n",
    "\n",
    "row1 = pd.Series(data=row_values, index=row_columns) "
   ]
  },
  {
   "cell_type": "code",
   "execution_count": 83,
   "metadata": {},
   "outputs": [
    {
     "data": {
      "text/plain": [
       "'автомобиль'"
      ]
     },
     "execution_count": 83,
     "metadata": {},
     "output_type": "execute_result"
    }
   ],
   "source": [
    "category_purpose(row1)"
   ]
  },
  {
   "cell_type": "code",
   "execution_count": 84,
   "metadata": {},
   "outputs": [],
   "source": [
    "row_values = ['свадьб']  \n",
    "row_columns = ['purpose_lemma'] \n",
    "\n",
    "row2 = pd.Series(data=row_values, index=row_columns) "
   ]
  },
  {
   "cell_type": "code",
   "execution_count": 85,
   "metadata": {},
   "outputs": [
    {
     "data": {
      "text/plain": [
       "'другое'"
      ]
     },
     "execution_count": 85,
     "metadata": {},
     "output_type": "execute_result"
    }
   ],
   "source": [
    "category_purpose(row2)"
   ]
  },
  {
   "cell_type": "code",
   "execution_count": 86,
   "metadata": {},
   "outputs": [],
   "source": [
    "row_values = [111]  \n",
    "row_columns = ['purpose_lemma'] \n",
    "\n",
    "row3 = pd.Series(data=row_values, index=row_columns) "
   ]
  },
  {
   "cell_type": "code",
   "execution_count": 87,
   "metadata": {},
   "outputs": [
    {
     "data": {
      "text/plain": [
       "'что-то пошло не так'"
      ]
     },
     "execution_count": 87,
     "metadata": {},
     "output_type": "execute_result"
    }
   ],
   "source": [
    "category_purpose(row3)"
   ]
  },
  {
   "cell_type": "markdown",
   "metadata": {},
   "source": [
    "Функция работает корректно. Запишем результат ее работы в новый столбец. Для передачи строк в функцию применим параметр axis=1"
   ]
  },
  {
   "cell_type": "code",
   "execution_count": 88,
   "metadata": {},
   "outputs": [],
   "source": [
    "clients['category_purpose'] = clients.apply(category_purpose, axis=1)"
   ]
  },
  {
   "cell_type": "markdown",
   "metadata": {},
   "source": [
    "Посмотрим количество уникальных значений. Мы категоризировали данные на четыре цели. Большая часть кредитов связана с жильем/недвижимостью"
   ]
  },
  {
   "cell_type": "code",
   "execution_count": 89,
   "metadata": {},
   "outputs": [
    {
     "data": {
      "text/plain": [
       "жилье/недвижимость    10811\n",
       "автомобиль             4306\n",
       "образование            4013\n",
       "свадьба                2323\n",
       "Name: category_purpose, dtype: int64"
      ]
     },
     "execution_count": 89,
     "metadata": {},
     "output_type": "execute_result"
    }
   ],
   "source": [
    "clients['category_purpose'].value_counts()"
   ]
  },
  {
   "cell_type": "markdown",
   "metadata": {},
   "source": [
    "Дополнительно интересно получить данные в разрезе подкатегорий жилья/недвижимости. Посмотрим на уникальные значения по лемматизированным целям для категории \"жилье/недвижимость\""
   ]
  },
  {
   "cell_type": "code",
   "execution_count": 90,
   "metadata": {},
   "outputs": [
    {
     "data": {
      "text/plain": [
       "array(['покупка жилье\\n', 'операция с жилье\\n',\n",
       "       'покупка жилье для семья\\n', 'покупка недвижимость\\n',\n",
       "       'покупка коммерческий недвижимость\\n',\n",
       "       'покупка жилой недвижимость\\n',\n",
       "       'строительство собственный недвижимость\\n', 'недвижимость\\n',\n",
       "       'строительство недвижимость\\n',\n",
       "       'операция с коммерческий недвижимость\\n',\n",
       "       'строительство жилой недвижимость\\n', 'жилье\\n',\n",
       "       'операция со свой недвижимость\\n', 'покупка свой жилье\\n',\n",
       "       'операция с недвижимость\\n', 'покупка жилье для сдача\\n',\n",
       "       'ремонт жилье\\n'], dtype=object)"
      ]
     },
     "execution_count": 90,
     "metadata": {},
     "output_type": "execute_result"
    }
   ],
   "source": [
    "clients.loc[clients['category_purpose'] == 'жилье/недвижимость']['purpose_lemma'].unique()"
   ]
  },
  {
   "cell_type": "markdown",
   "metadata": {},
   "source": [
    " Выделим следующие подкатегории:\n",
    "   - покупка для сдачи в аренду - встречается слово \"коммерческий\" или \"сдача\"\n",
    "   - строительство - встречается слово \"строительство\"\n",
    "   - ремонт - встречается слово \"ремонт\"\n",
    "   - покупка жилья/недвижимости - все остальные записи, не попавшие под три вышеназванные подкатегории. "
   ]
  },
  {
   "cell_type": "markdown",
   "metadata": {},
   "source": [
    "Напишем функцию, которая принимает одну строку, обрабатывает категорию и леммы в целях кредита, а затем возвращает подкатегорию. "
   ]
  },
  {
   "cell_type": "code",
   "execution_count": 91,
   "metadata": {},
   "outputs": [],
   "source": [
    "def subcategory_purpose(row):\n",
    "    category_purpose = row['category_purpose']\n",
    "    purpose_lemma = row['purpose_lemma']\n",
    "    try:\n",
    "        if category_purpose == 'жилье/недвижимость':\n",
    "            if 'коммерческий' in purpose_lemma:\n",
    "                return 'покупка для сдачи в аренду'\n",
    "            if 'сдача' in purpose_lemma:\n",
    "                return 'покупка для сдачи в аренду'\n",
    "            if 'строительство' in purpose_lemma:\n",
    "                return 'cтроительство'\n",
    "            if 'ремонт' in purpose_lemma:\n",
    "                return 'ремонт'\n",
    "            return 'покупка жилья/недвижимости'\n",
    "        elif category_purpose != 'жилье/недвижимость':\n",
    "            return category_purpose #заполнить пропуски названиями категорий в подкатегориях, не относящихся\n",
    "                                    #к жилью/недвижимости. Но для этой записи не срабатывает except,\n",
    "                                    #т.к. что передаем в category_purpose,то и записывается\n",
    "    except:\n",
    "        return 'упс! надо разбираться с ошибкой'\n",
    "                               "
   ]
  },
  {
   "cell_type": "markdown",
   "metadata": {},
   "source": [
    "Сформируем строки для проверки функции"
   ]
  },
  {
   "cell_type": "code",
   "execution_count": 92,
   "metadata": {},
   "outputs": [
    {
     "data": {
      "text/plain": [
       "'покупка для сдачи в аренду'"
      ]
     },
     "execution_count": 92,
     "metadata": {},
     "output_type": "execute_result"
    }
   ],
   "source": [
    "row_values = ['жилье/недвижимость','сдача']  \n",
    "row_columns = ['category_purpose','purpose_lemma'] \n",
    "\n",
    "row1 = pd.Series(data=row_values, index=row_columns) \n",
    "\n",
    "subcategory_purpose(row1)"
   ]
  },
  {
   "cell_type": "code",
   "execution_count": 93,
   "metadata": {},
   "outputs": [
    {
     "data": {
      "text/plain": [
       "'покупка жилья/недвижимости'"
      ]
     },
     "execution_count": 93,
     "metadata": {},
     "output_type": "execute_result"
    }
   ],
   "source": [
    "row_values = ['жилье/недвижимость','что-то про жилье']  \n",
    "row_columns = ['category_purpose','purpose_lemma'] \n",
    "\n",
    "row2 = pd.Series(data=row_values, index=row_columns) \n",
    "\n",
    "subcategory_purpose(row2)"
   ]
  },
  {
   "cell_type": "code",
   "execution_count": 94,
   "metadata": {},
   "outputs": [
    {
     "data": {
      "text/plain": [
       "'образование'"
      ]
     },
     "execution_count": 94,
     "metadata": {},
     "output_type": "execute_result"
    }
   ],
   "source": [
    "row_values = ['образование','ученье свет']  \n",
    "row_columns = ['category_purpose','purpose_lemma'] \n",
    "\n",
    "row3 = pd.Series(data=row_values, index=row_columns) \n",
    "\n",
    "subcategory_purpose(row3)"
   ]
  },
  {
   "cell_type": "code",
   "execution_count": 95,
   "metadata": {},
   "outputs": [
    {
     "data": {
      "text/plain": [
       "'упс! надо разбираться с ошибкой'"
      ]
     },
     "execution_count": 95,
     "metadata": {},
     "output_type": "execute_result"
    }
   ],
   "source": [
    "row_values = ['жилье/недвижимость',0]  \n",
    "row_columns = ['category_purpose','purpose_lemma'] \n",
    "\n",
    "row3 = pd.Series(data=row_values, index=row_columns) \n",
    "\n",
    "subcategory_purpose(row3)"
   ]
  },
  {
   "cell_type": "markdown",
   "metadata": {},
   "source": [
    "Запишем в таблицу clients новый столбец с подкатегориями, кототрые возвращает функция subcategory_purpose"
   ]
  },
  {
   "cell_type": "code",
   "execution_count": 96,
   "metadata": {},
   "outputs": [],
   "source": [
    "clients['subcategory_purpose'] = clients.apply(subcategory_purpose, axis=1)"
   ]
  },
  {
   "cell_type": "markdown",
   "metadata": {},
   "source": [
    "Посмотрим, что получилось"
   ]
  },
  {
   "cell_type": "code",
   "execution_count": 97,
   "metadata": {},
   "outputs": [
    {
     "data": {
      "text/plain": [
       "category_purpose    subcategory_purpose       \n",
       "автомобиль          автомобиль                    4306\n",
       "жилье/недвижимость  покупка жилья/недвижимости    6364\n",
       "                    покупка для сдачи в аренду    1962\n",
       "                    cтроительство                 1878\n",
       "                    ремонт                         607\n",
       "образование         образование                   4013\n",
       "свадьба             свадьба                       2323\n",
       "Name: subcategory_purpose, dtype: int64"
      ]
     },
     "execution_count": 97,
     "metadata": {},
     "output_type": "execute_result"
    }
   ],
   "source": [
    "clients.groupby('category_purpose')['subcategory_purpose'].value_counts()"
   ]
  },
  {
   "cell_type": "markdown",
   "metadata": {},
   "source": [
    "Среди целей получения кредита лидеры жилье/недвижимость, автомобиль и образование. \n",
    "При этом подкатегория \"покупка жилья/недвижимости\" на первом месте. Это говорит о том, что чаще всего люди берут кредит на приобритение своего жилья/недвижимости, скорее всего это ипотека. \n",
    "\n",
    "Количество кредитов на образование сопоставимо с желанием купить автомобиль. Кроме того такие цифры говорят о высокой стоимости образования"
   ]
  },
  {
   "cell_type": "markdown",
   "metadata": {},
   "source": [
    "## Влияние социальных факторов на возврат кредита в срок"
   ]
  },
  {
   "cell_type": "markdown",
   "metadata": {},
   "source": [
    "Для ответа на вопросы, приведенные ниже, сделаем функцию, которая строит сводную таблицу и визуализирует ее."
   ]
  },
  {
   "cell_type": "code",
   "execution_count": 98,
   "metadata": {},
   "outputs": [],
   "source": [
    "def pivot(data, index):\n",
    "    \n",
    "    \"\"\"\n",
    "    На вход функция принимает датафрейм и признак для группировки.\n",
    "    Далее строится сводная таблица с подсчетом\n",
    "     - общего числа клиентов в категории (count), т.е. количество должников найдем по сумме единиц;\n",
    "     - числа заемщиков (sum); \n",
    "     -  % невозврата (mean), т.е. должники деленные на общее число клиентов.     \n",
    "    \"\"\"\n",
    "    \n",
    "    pivot = data.pivot_table(\n",
    "        index = index, values = 'debt_status', aggfunc = ['count', 'sum', 'mean']).reset_index()\n",
    "    pivot.columns = [index, 'Кол-во клиентов', 'Кол-во должников', '% невозврата']\n",
    "    display(pivot.sort_values('% невозврата', ascending = False))\n",
    "    \n",
    "    \n",
    "    fig = px.bar(\n",
    "        pivot, x = index, y = '% невозврата', color = '% невозврата', title = '% невозврата по ' + index)\n",
    "    fig.show(\"png\")"
   ]
  },
  {
   "cell_type": "markdown",
   "metadata": {},
   "source": [
    "### Есть ли зависимость между наличием детей и возвратом кредита в срок?"
   ]
  },
  {
   "cell_type": "markdown",
   "metadata": {},
   "source": [
    "Применим функцию pivot() к категориям по детям"
   ]
  },
  {
   "cell_type": "code",
   "execution_count": 99,
   "metadata": {},
   "outputs": [
    {
     "data": {
      "text/html": [
       "<div>\n",
       "<style scoped>\n",
       "    .dataframe tbody tr th:only-of-type {\n",
       "        vertical-align: middle;\n",
       "    }\n",
       "\n",
       "    .dataframe tbody tr th {\n",
       "        vertical-align: top;\n",
       "    }\n",
       "\n",
       "    .dataframe thead th {\n",
       "        text-align: right;\n",
       "    }\n",
       "</style>\n",
       "<table border=\"1\" class=\"dataframe\">\n",
       "  <thead>\n",
       "    <tr style=\"text-align: right;\">\n",
       "      <th></th>\n",
       "      <th>children_group</th>\n",
       "      <th>Кол-во клиентов</th>\n",
       "      <th>Кол-во должников</th>\n",
       "      <th>% невозврата</th>\n",
       "    </tr>\n",
       "  </thead>\n",
       "  <tbody>\n",
       "    <tr>\n",
       "      <th>0</th>\n",
       "      <td>есть дети</td>\n",
       "      <td>6983</td>\n",
       "      <td>647</td>\n",
       "      <td>0.092654</td>\n",
       "    </tr>\n",
       "    <tr>\n",
       "      <th>1</th>\n",
       "      <td>многодетные</td>\n",
       "      <td>380</td>\n",
       "      <td>31</td>\n",
       "      <td>0.081579</td>\n",
       "    </tr>\n",
       "    <tr>\n",
       "      <th>2</th>\n",
       "      <td>нет детей</td>\n",
       "      <td>14090</td>\n",
       "      <td>1063</td>\n",
       "      <td>0.075444</td>\n",
       "    </tr>\n",
       "  </tbody>\n",
       "</table>\n",
       "</div>"
      ],
      "text/plain": [
       "  children_group  Кол-во клиентов  Кол-во должников  % невозврата\n",
       "0      есть дети             6983               647      0.092654\n",
       "1    многодетные              380                31      0.081579\n",
       "2      нет детей            14090              1063      0.075444"
      ]
     },
     "metadata": {},
     "output_type": "display_data"
    },
    {
     "data": {
      "image/png": "[encoded data removed]"
     },
     "metadata": {},
     "output_type": "display_data"
    }
   ],
   "source": [
    "pivot(clients, 'children_group')"
   ]
  },
  {
   "cell_type": "markdown",
   "metadata": {},
   "source": [
    "**Вывод**"
   ]
  },
  {
   "cell_type": "markdown",
   "metadata": {},
   "source": [
    "Мы видим, что наличие детей влияет на возврат кредита в срок. При этом, если говорить о количестве детей, то в первую очередь должниками являются клиенты, у которых 1-2 ребенка, и только потом многодетные, от 3х детей.\n",
    "Самый низкий процент невозврата из трех категорий у клиентов, которые не имеют детей.\n",
    "\n",
    "Вероятно, наличие детей влечет дополнительные расходы, поэтому людям сложнее справиться с кредитной нагрузкой. Но тогда интересно, почему многодетные не на первом месте? Может быть дело в каких-то льготных условиях кредитования, субсидиях или они более финансово подготовлены"
   ]
  },
  {
   "cell_type": "markdown",
   "metadata": {},
   "source": [
    "### Есть ли зависимость между семейным положением и возвратом кредита в срок?"
   ]
  },
  {
   "cell_type": "markdown",
   "metadata": {},
   "source": [
    "Вызовем функцию pivot() для статуса по семейному положению. "
   ]
  },
  {
   "cell_type": "code",
   "execution_count": 100,
   "metadata": {},
   "outputs": [
    {
     "data": {
      "text/html": [
       "<div>\n",
       "<style scoped>\n",
       "    .dataframe tbody tr th:only-of-type {\n",
       "        vertical-align: middle;\n",
       "    }\n",
       "\n",
       "    .dataframe tbody tr th {\n",
       "        vertical-align: top;\n",
       "    }\n",
       "\n",
       "    .dataframe thead th {\n",
       "        text-align: right;\n",
       "    }\n",
       "</style>\n",
       "<table border=\"1\" class=\"dataframe\">\n",
       "  <thead>\n",
       "    <tr style=\"text-align: right;\">\n",
       "      <th></th>\n",
       "      <th>family_status</th>\n",
       "      <th>Кол-во клиентов</th>\n",
       "      <th>Кол-во должников</th>\n",
       "      <th>% невозврата</th>\n",
       "    </tr>\n",
       "  </thead>\n",
       "  <tbody>\n",
       "    <tr>\n",
       "      <th>4</th>\n",
       "      <td>не женат / не замужем</td>\n",
       "      <td>2810</td>\n",
       "      <td>274</td>\n",
       "      <td>0.097509</td>\n",
       "    </tr>\n",
       "    <tr>\n",
       "      <th>2</th>\n",
       "      <td>гражданский брак</td>\n",
       "      <td>4150</td>\n",
       "      <td>388</td>\n",
       "      <td>0.093494</td>\n",
       "    </tr>\n",
       "    <tr>\n",
       "      <th>3</th>\n",
       "      <td>женат / замужем</td>\n",
       "      <td>12339</td>\n",
       "      <td>931</td>\n",
       "      <td>0.075452</td>\n",
       "    </tr>\n",
       "    <tr>\n",
       "      <th>0</th>\n",
       "      <td>в разводе</td>\n",
       "      <td>1195</td>\n",
       "      <td>85</td>\n",
       "      <td>0.071130</td>\n",
       "    </tr>\n",
       "    <tr>\n",
       "      <th>1</th>\n",
       "      <td>вдовец / вдова</td>\n",
       "      <td>959</td>\n",
       "      <td>63</td>\n",
       "      <td>0.065693</td>\n",
       "    </tr>\n",
       "  </tbody>\n",
       "</table>\n",
       "</div>"
      ],
      "text/plain": [
       "           family_status  Кол-во клиентов  Кол-во должников  % невозврата\n",
       "4  не женат / не замужем             2810               274      0.097509\n",
       "2       гражданский брак             4150               388      0.093494\n",
       "3        женат / замужем            12339               931      0.075452\n",
       "0              в разводе             1195                85      0.071130\n",
       "1         вдовец / вдова              959                63      0.065693"
      ]
     },
     "metadata": {},
     "output_type": "display_data"
    },
    {
     "data": {
      "image/png": "[encoded data removed]"
     },
     "metadata": {},
     "output_type": "display_data"
    }
   ],
   "source": [
    "pivot(clients,'family_status')"
   ]
  },
  {
   "cell_type": "markdown",
   "metadata": {},
   "source": [
    "**Вывод**"
   ]
  },
  {
   "cell_type": "markdown",
   "metadata": {},
   "source": [
    "Семейное положение влияет на возврат кредита в срок. \n",
    "Самый высокий процент невозвратов у не женатых/не замужних, на втором месте - находящиеся в гражданском браке. Две эти категории говорят о том, что статус отношений не является официальным.\n",
    "\n",
    "Люди, имеющие официальный статус отношений, как в настоящем (женат/замужем), так и в прошлом (в разводе, вдовец/вдова), более ответственно подходят к возврату кредитов. "
   ]
  },
  {
   "cell_type": "markdown",
   "metadata": {},
   "source": [
    "### Есть ли зависимость между уровнем дохода и возвратом кредита в срок?"
   ]
  },
  {
   "cell_type": "markdown",
   "metadata": {},
   "source": [
    "Вызовем функцию pivot() для категорий по уровню дохода клиентов "
   ]
  },
  {
   "cell_type": "code",
   "execution_count": 101,
   "metadata": {},
   "outputs": [
    {
     "data": {
      "text/html": [
       "<div>\n",
       "<style scoped>\n",
       "    .dataframe tbody tr th:only-of-type {\n",
       "        vertical-align: middle;\n",
       "    }\n",
       "\n",
       "    .dataframe tbody tr th {\n",
       "        vertical-align: top;\n",
       "    }\n",
       "\n",
       "    .dataframe thead th {\n",
       "        text-align: right;\n",
       "    }\n",
       "</style>\n",
       "<table border=\"1\" class=\"dataframe\">\n",
       "  <thead>\n",
       "    <tr style=\"text-align: right;\">\n",
       "      <th></th>\n",
       "      <th>month_income_category</th>\n",
       "      <th>Кол-во клиентов</th>\n",
       "      <th>Кол-во должников</th>\n",
       "      <th>% невозврата</th>\n",
       "    </tr>\n",
       "  </thead>\n",
       "  <tbody>\n",
       "    <tr>\n",
       "      <th>1</th>\n",
       "      <td>средний доход</td>\n",
       "      <td>5363</td>\n",
       "      <td>475</td>\n",
       "      <td>0.088570</td>\n",
       "    </tr>\n",
       "    <tr>\n",
       "      <th>2</th>\n",
       "      <td>доход выше среднего</td>\n",
       "      <td>5817</td>\n",
       "      <td>494</td>\n",
       "      <td>0.084924</td>\n",
       "    </tr>\n",
       "    <tr>\n",
       "      <th>0</th>\n",
       "      <td>низкий доход</td>\n",
       "      <td>5364</td>\n",
       "      <td>427</td>\n",
       "      <td>0.079605</td>\n",
       "    </tr>\n",
       "    <tr>\n",
       "      <th>3</th>\n",
       "      <td>высокий доход</td>\n",
       "      <td>4909</td>\n",
       "      <td>345</td>\n",
       "      <td>0.070279</td>\n",
       "    </tr>\n",
       "  </tbody>\n",
       "</table>\n",
       "</div>"
      ],
      "text/plain": [
       "  month_income_category  Кол-во клиентов  Кол-во должников  % невозврата\n",
       "1         средний доход             5363               475      0.088570\n",
       "2   доход выше среднего             5817               494      0.084924\n",
       "0          низкий доход             5364               427      0.079605\n",
       "3         высокий доход             4909               345      0.070279"
      ]
     },
     "metadata": {},
     "output_type": "display_data"
    },
    {
     "data": {
      "image/png": "[encoded data removed]"
     },
     "metadata": {},
     "output_type": "display_data"
    }
   ],
   "source": [
    "pivot(clients, 'month_income_category')"
   ]
  },
  {
   "cell_type": "markdown",
   "metadata": {},
   "source": [
    "**Вывод**\n",
    "\n",
    "Самый низкий процент невозврата у людей с высоким доходом.\n",
    "Больше всего должников среди людей со средним доходом и чуть меньше у людей с доходом выше среднего.\n",
    "Интересно, что у людей с низким доходом % невозврата ниже, чем у среднего класса. \n",
    "Можем предположить, что люди с низким доходом проходят более строкий скоринг или критически оченивают свои возможности. А средний класс не совсем корректно и слишком оптимистично оценивает свои возможности."
   ]
  },
  {
   "cell_type": "markdown",
   "metadata": {},
   "source": [
    "### Как разные цели кредита влияют на его возврат в срок?\n"
   ]
  },
  {
   "cell_type": "markdown",
   "metadata": {},
   "source": [
    "Вызовем функцию pivot() для категорий по целям кредита. На вход передаем subcategory_purpose, чтобы увидеть более полную картину с детализацией по целям, относящимся к квартирам/недвижимости"
   ]
  },
  {
   "cell_type": "code",
   "execution_count": 102,
   "metadata": {},
   "outputs": [
    {
     "data": {
      "text/html": [
       "<div>\n",
       "<style scoped>\n",
       "    .dataframe tbody tr th:only-of-type {\n",
       "        vertical-align: middle;\n",
       "    }\n",
       "\n",
       "    .dataframe tbody tr th {\n",
       "        vertical-align: top;\n",
       "    }\n",
       "\n",
       "    .dataframe thead th {\n",
       "        text-align: right;\n",
       "    }\n",
       "</style>\n",
       "<table border=\"1\" class=\"dataframe\">\n",
       "  <thead>\n",
       "    <tr style=\"text-align: right;\">\n",
       "      <th></th>\n",
       "      <th>subcategory_purpose</th>\n",
       "      <th>Кол-во клиентов</th>\n",
       "      <th>Кол-во должников</th>\n",
       "      <th>% невозврата</th>\n",
       "    </tr>\n",
       "  </thead>\n",
       "  <tbody>\n",
       "    <tr>\n",
       "      <th>1</th>\n",
       "      <td>автомобиль</td>\n",
       "      <td>4306</td>\n",
       "      <td>403</td>\n",
       "      <td>0.093590</td>\n",
       "    </tr>\n",
       "    <tr>\n",
       "      <th>2</th>\n",
       "      <td>образование</td>\n",
       "      <td>4013</td>\n",
       "      <td>370</td>\n",
       "      <td>0.092200</td>\n",
       "    </tr>\n",
       "    <tr>\n",
       "      <th>6</th>\n",
       "      <td>свадьба</td>\n",
       "      <td>2323</td>\n",
       "      <td>186</td>\n",
       "      <td>0.080069</td>\n",
       "    </tr>\n",
       "    <tr>\n",
       "      <th>3</th>\n",
       "      <td>покупка для сдачи в аренду</td>\n",
       "      <td>1962</td>\n",
       "      <td>151</td>\n",
       "      <td>0.076962</td>\n",
       "    </tr>\n",
       "    <tr>\n",
       "      <th>0</th>\n",
       "      <td>cтроительство</td>\n",
       "      <td>1878</td>\n",
       "      <td>144</td>\n",
       "      <td>0.076677</td>\n",
       "    </tr>\n",
       "    <tr>\n",
       "      <th>4</th>\n",
       "      <td>покупка жилья/недвижимости</td>\n",
       "      <td>6364</td>\n",
       "      <td>452</td>\n",
       "      <td>0.071025</td>\n",
       "    </tr>\n",
       "    <tr>\n",
       "      <th>5</th>\n",
       "      <td>ремонт</td>\n",
       "      <td>607</td>\n",
       "      <td>35</td>\n",
       "      <td>0.057661</td>\n",
       "    </tr>\n",
       "  </tbody>\n",
       "</table>\n",
       "</div>"
      ],
      "text/plain": [
       "          subcategory_purpose  Кол-во клиентов  Кол-во должников  % невозврата\n",
       "1                  автомобиль             4306               403      0.093590\n",
       "2                 образование             4013               370      0.092200\n",
       "6                     свадьба             2323               186      0.080069\n",
       "3  покупка для сдачи в аренду             1962               151      0.076962\n",
       "0               cтроительство             1878               144      0.076677\n",
       "4  покупка жилья/недвижимости             6364               452      0.071025\n",
       "5                      ремонт              607                35      0.057661"
      ]
     },
     "metadata": {},
     "output_type": "display_data"
    },
    {
     "data": {
      "image/png": "[encoded data removed]"
     },
     "metadata": {},
     "output_type": "display_data"
    }
   ],
   "source": [
    "pivot(clients, 'subcategory_purpose')"
   ]
  },
  {
   "cell_type": "markdown",
   "metadata": {},
   "source": [
    "**Вывод**"
   ]
  },
  {
   "cell_type": "markdown",
   "metadata": {},
   "source": [
    "Самый высокий процент невозврата выявлен для покупки автомобиля.\n",
    "\n",
    "Образование практически находится на одном уровне с покупкой автомобиля. И на третьем месте свадьба. \n",
    "\n",
    "Все остальные цели, с более низким процентом невозвратов, связанны с жильем/недвижимостью. На предпоследнем месте покупка жилья/недвижимости.\n",
    "Такая статистика говорит о том, что люди в первую очередь стремятся погасить задолженность по жизненно необходимым вещам. Например, боятся что банк отберет квартиру, при этом готовы потерять автомобиль в случае непогашения кредита.\n",
    "Ремонт попал на последнее место по невозвратам, т.к. скорее всего это те самые люди, которые взяли ипотеку, они хотят сделать отделку в новой квартире, обустроить ее, для них это также жизненно необходимая цель."
   ]
  },
  {
   "cell_type": "markdown",
   "metadata": {},
   "source": [
    "## Общий вывод"
   ]
  },
  {
   "cell_type": "markdown",
   "metadata": {},
   "source": [
    "Мы получили наглядные данные для выявления зависимостей между возвратом кредита в срок и семейным положением, количеством детей, уровнем дохода, а также целями кредита. \n",
    "Все четыре фактора влияют на возврат кредита в срок. \n",
    "\n",
    "На основании полученных данных можно составить два портрета: клиент с хорошей кредитной историей и должник.\n",
    "\n",
    "Для клиента-должника характерно следующее: официально не состоит в отношениях, есть дети, средний доход, берет кредит на автомобиль. \n",
    "\n",
    "Клиент с хорошей кредитной историей состоит в официальных отношениях, детей нет, высокий уровень дохода, кредит берет на собственное жилье. "
   ]
  }
 ],
 "metadata": {
  "kernelspec": {
   "display_name": "Python 3 (ipykernel)",
   "language": "python",
   "name": "python3"
  },
  "language_info": {
   "codemirror_mode": {
    "name": "ipython",
    "version": 3
   },
   "file_extension": ".py",
   "mimetype": "text/x-python",
   "name": "python",
   "nbconvert_exporter": "python",
   "pygments_lexer": "ipython3",
   "version": "3.9.10"
  },
  "toc": {
   "base_numbering": 1,
   "nav_menu": {},
   "number_sections": true,
   "sideBar": true,
   "skip_h1_title": true,
   "title_cell": "Table of Contents",
   "title_sidebar": "Contents",
   "toc_cell": true,
   "toc_position": {
    "height": "calc(100% - 180px)",
    "left": "10px",
    "top": "150px",
    "width": "328px"
   },
   "toc_section_display": true,
   "toc_window_display": true
  }
 },
 "nbformat": 4,
 "nbformat_minor": 2
}
